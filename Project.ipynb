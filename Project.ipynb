{
 "cells": [
  {
   "cell_type": "markdown",
   "metadata": {},
   "source": [
    "# Iterative Prisoner's Dilemma\n",
    "\n",
    "\n",
    "## Description\n",
    "\n",
    "The [Prisoner's Dilemma](https://en.wikipedia.org/wiki/Prisoner%27s_dilemma) (PD) is a classical game analyzed in game theory, which is widely used to (attempt to) model social/economical interaction. It's a \"dilemma\" as, if exploited to explain the emergence of altruism in human or in general animal society, it fails badly at a first glance.\n",
    "\n",
    "The classical situation-representation of the PD is that of two prisoners whose conviction depends on their mutual cooperation. It is easier understood though if illustrated in terms of a trade-off game (closed bag exachange):\n",
    "\n",
    "*Two people meet and exchange closed bags, with the understanding that one of them contains money, and the other contains a purchase. Either player can choose to honor the deal by putting into his or her bag what he or she agreed, or he or she can defect by handing over an empty bag.*\n",
    "\n",
    "It is obvious that for both players the winning strategy is to NOT cooperate.\n",
    "\n",
    "Things changes when the interaction between the two individuals is iterated, in that case a more altruist attitude (strategy) is expected to emerge. The goal of this project is to test this hypothesis.\n",
    "\n",
    "Mathematically the PD can be expressed with very basic linear algebra. The key component is the **Payoff matrix** $M$, which quantify the reward each player gets depending on whether she cooperated or not (defect):\n",
    "\n",
    "$$\n",
    "M = \n",
    "\\begin{pmatrix} \n",
    "R & S \\\\\n",
    "T & P \n",
    "\\end{pmatrix}\n",
    "$$\n",
    "\n",
    "with $T,R,S,P$ integers that satisfy the following conditions:\n",
    "\n",
    "$$\n",
    "T>R>P>S; \\quad 2R > T+S\n",
    "$$\n",
    "\n",
    "for example $T=3$, $R=2$, $P=1$ and $S=0$, or  $T=5$, $R=3$, $P=2$, $S=0$. Each player choice (move) can be represented by one of the two axis in ${\\rm I\\!R}^2$, i.e. $u_C=\\begin{pmatrix} 1 \\\\ 0 \\end{pmatrix}$ or $u_D=\\begin{pmatrix} 0 \\\\ 1 \\end{pmatrix}$, where the first coordinate stands for *Cooperate* and the second for *Defect*. Being $u_1$ and $u_2$ their rewards $r_1$ and $r_2$ can be computed then as:\n",
    "\n",
    "$$\n",
    "r_1 = u_1^T M u_2\n",
    "\\quad\n",
    "\\quad\n",
    "r_2 = u_2^T M u_1\n",
    "$$\n",
    "\n",
    "In an Iterative Prisoner's Dilemma (IPD), two players play prisoner's dilemma more than once in succession and they remember previous actions of their opponent and change their strategy accordingly. The winning strategy is the one which yields to a larger reward at the end of the IPD.\n",
    "\n",
    "The strategy can be represented as a function which outputs either $u_C$ or $u_D$. Such function can depend on the opponent's history of moves, her on history of moves, on the number of moves played till that moment and so on, but it can only be based on a probability density function. Possible strategies are:\n",
    "\n",
    "* **Nice guy**: always cooperate (the function's output is always $u_D$)\n",
    "* **Bad guy**: always defect \n",
    "* **Mainly nice**: randomly defect $k\\%$ of the times and cooperate $100-k\\%$, $k<50$\n",
    "* **Mainly bad**: randomly defect $k\\%$ of the times and cooperate $100-k\\%$, $k>50$\n",
    "* **tit-for-tat**: start by cooperating, then repeat what the opponent has done in the previous move \n",
    "\n",
    "Many more and much more complex strategies can be implemented. The strategy can even change during the IPD.\n",
    "\n",
    "\n",
    "## Assignments\n",
    "\n",
    "* Implement a simple IPD between two players implementing two given strategies. Study the evolution along the tournament confronting different strategies; study the overall outcome in the different configurations. \n",
    "* Implement a multiple players IPD (MPIPD) where several strategies play against each other in a roud-robin scheme\n",
    "* Iterate what done in the previous task (repeated MPIPD, rMPIPD)  by increasing the population implementing a given strategy depending on the results that strategy achieved in the previous iteration\n",
    "* Implement a rMPIPD where strategies are allowed to mutate. The goal is to simulate the effect of genetic mutations and the effect of natura selection. A parameter (gene) should encode the attidue of an individual to cooperate, such gene can mutate randomly and the corresponding phenotype should compete in the MPIPD such that the best-fitted is determined."
   ]
  },
  {
   "cell_type": "code",
   "execution_count": 3,
   "metadata": {},
   "outputs": [],
   "source": [
    "import numpy as np\n",
    "import pandas as pd\n",
    "import random\n",
    "from matplotlib import pyplot as plt\n",
    "from matplotlib.ticker import MaxNLocator\n",
    "from scipy import stats"
   ]
  },
  {
   "cell_type": "markdown",
   "metadata": {},
   "source": [
    "# Preliminary definition\n",
    "\n",
    "In this section we will define all constants and function needed to the assignement\n",
    "\n",
    "#### Constants\n",
    "\n",
    "Let's define the constants needed for the assignement"
   ]
  },
  {
   "cell_type": "code",
   "execution_count": 4,
   "metadata": {},
   "outputs": [
    {
     "name": "stdout",
     "output_type": "stream",
     "text": [
      "The matrix of the payoff:\n",
      "[[2 0]\n",
      " [3 1]]\n"
     ]
    }
   ],
   "source": [
    "# Definition of the matrix of the payoff\n",
    "M = np.array([[2, 0], [3, 1]])\n",
    "\n",
    "# Definition of the two possible moves\n",
    "uc = np.array([1, 0])\n",
    "ud = np.array([0, 1])\n",
    "\n",
    "print('The matrix of the payoff:')\n",
    "print(M)\n",
    "\n",
    "# Definition of the probability for defining the two moves\n",
    "probability_mainly_nice = 0.75\n",
    "probability_mainly_bad = 0.75\n",
    "\n",
    "# Definition of the number of stage in the repeated game\n",
    "n = 10"
   ]
  },
  {
   "cell_type": "markdown",
   "metadata": {},
   "source": [
    "#### Strategies\n",
    "\n",
    "Disclamer, game theoretically speaking, this is not the formal way to define strategies. In fact in game theory all player decide in advance what move to play in every single circumstance, here we only care about what happenes on the moves' path."
   ]
  },
  {
   "cell_type": "code",
   "execution_count": 5,
   "metadata": {},
   "outputs": [],
   "source": [
    "def nice_guy(number_of_stage):\n",
    "    strat = uc.copy()\n",
    "    return np.broadcast_to(strat, (number_of_stage, 2))\n",
    "\n",
    "def bad_guy(number_of_stage):\n",
    "    strat = ud.copy()\n",
    "    return np.broadcast_to(strat, (number_of_stage, 2))\n",
    "\n",
    "def mainly_nice(number_of_stage):\n",
    "    strat = uc.copy()\n",
    "    strat = np.broadcast_to(strat, (number_of_stage, 2)).copy()\n",
    "    for i in range(number_of_stage):\n",
    "        if random.random() >= probability_mainly_nice:\n",
    "            strat[i, :] = ud\n",
    "    return strat\n",
    "\n",
    "def mainly_bad(number_of_stage):\n",
    "    strat = ud.copy()\n",
    "    strat = np.broadcast_to(strat, (number_of_stage, 2)).copy()\n",
    "    for i in range(number_of_stage):\n",
    "        if random.random() >= probability_mainly_bad:\n",
    "            strat[i, :] = uc\n",
    "    return strat\n",
    "\n",
    "def tit_for_tat(opponent_strategy, number_of_stage):\n",
    "    if opponent_strategy is tit_for_tat or opponent_strategy is grim_trigger:\n",
    "        return nice_guy(number_of_stage), nice_guy(number_of_stage)\n",
    "    o = opponent_strategy(number_of_stage)\n",
    "    return np.vstack((uc, o[:-1])), o\n",
    "\n",
    "def nash_equilibrium(number_of_stage):\n",
    "    strat = uc.copy()\n",
    "    strat = np.broadcast_to(strat, (number_of_stage, 2)).copy()\n",
    "    strat[number_of_stage-1, :] = ud\n",
    "    return strat\n"
   ]
  },
  {
   "cell_type": "markdown",
   "metadata": {},
   "source": [
    "Game theoretically speaking, would be more effective to model mainly_bad and mainly_nice strategy with mixed strategy.\n",
    "\n",
    "A mixed strategy expresses the fact that a player plays a strategy with a given probability, we can easily find the payoff of this strategy looking for the expected payoff, that is the linear combination of the payoff multiplied for the probability of playing that move.  "
   ]
  },
  {
   "cell_type": "code",
   "execution_count": 6,
   "metadata": {},
   "outputs": [],
   "source": [
    "def mainly_nice_mixed(number_of_stage):\n",
    "    move = probability_mainly_nice * uc + (1 - probability_mainly_nice) * ud\n",
    "    return np.broadcast_to(move, (number_of_stage, 2))\n",
    "\n",
    "def mainly_bad_mixed(number_of_stage):\n",
    "    move = probability_mainly_bad * ud + (1 - probability_mainly_nice) * uc\n",
    "    return np.broadcast_to(move, (number_of_stage, 2))\n"
   ]
  },
  {
   "cell_type": "markdown",
   "metadata": {},
   "source": [
    "We define also another interesting strategy, the **grim trigger** as:\n",
    "* Start cooperating at stage 1\n",
    "* At stage t >1, cooperate only if second player cooperate in all of t -1 previous stages , otherwise defect"
   ]
  },
  {
   "cell_type": "code",
   "execution_count": 7,
   "metadata": {},
   "outputs": [],
   "source": [
    "def grim_trigger(opponent_strategy, number_of_stage):\n",
    "    if opponent_strategy is tit_for_tat or opponent_strategy is grim_trigger:\n",
    "        return nice_guy(number_of_stage), nice_guy(number_of_stage)\n",
    "    \n",
    "    o_moves = opponent_strategy(number_of_stage)\n",
    "    my_moves = np.zeros(( number_of_stage, 2), dtype=int)\n",
    "    my_moves[0] = uc\n",
    "    \n",
    "    for i in range (number_of_stage):\n",
    "        if((o_moves[i] == uc).all()):\n",
    "            my_moves[i+1] = uc\n",
    "        else:\n",
    "            my_moves[i+1:number_of_stage] = ud\n",
    "            break\n",
    "    \n",
    "    return my_moves, o_moves"
   ]
  },
  {
   "cell_type": "markdown",
   "metadata": {},
   "source": [
    "#### Play\n",
    "\n",
    "Let's define a function that computes the payoff of a IPD"
   ]
  },
  {
   "cell_type": "code",
   "execution_count": 8,
   "metadata": {},
   "outputs": [],
   "source": [
    "def play (first_strat, second_strat, number_of_stage, verbose=False):\n",
    "    if first_strat is tit_for_tat or first_strat is grim_trigger:\n",
    "        f_strat, s_strat = first_strat(second_strat, number_of_stage)\n",
    "    elif second_strat is tit_for_tat or second_strat is grim_trigger:\n",
    "        s_strat, f_strat = second_strat(first_strat, number_of_stage)\n",
    "    else:\n",
    "        f_strat = first_strat(number_of_stage)\n",
    "        s_strat = second_strat(number_of_stage)\n",
    "    out_first = []\n",
    "    out_second = []\n",
    "    if verbose:\n",
    "        print('First player\\'s strategy:\\t\\tSecond player\\'s strategy:')\n",
    "        for f_move, s_move in zip(f_strat, s_strat):\n",
    "            print(f_move, '\\t\\t\\t\\t\\t' +str(s_move))\n",
    "        print()\n",
    "        \n",
    "    for f, s in zip(f_strat, s_strat):\n",
    "        out_first += [f.dot(M).dot(s.T) , ]\n",
    "        out_second += [s.dot(M).dot(f.T) , ]\n",
    "    if verbose:\n",
    "        print('The outcome of the first player is:')\n",
    "        print(out_first, '\\n')\n",
    "        print('The outcome of the second player is:')\n",
    "        print(out_second, '\\n')\n",
    "        print('The total outcome for the first player is:', np.array(out_first).sum())\n",
    "        print('The total outcome for the second player is:', np.array(out_second).sum())\n",
    "        \n",
    "        # plot\n",
    "        out_first_cs = np.array(out_first).cumsum() \n",
    "        out_second_cs = np.array(out_second).cumsum()\n",
    "        \n",
    "        fig, ax = plt.subplots(figsize=(6, 4))\n",
    "        ax.grid(visible=True)\n",
    "        ax.plot( range(1, number_of_stage+1) , out_first_cs , label='player 1')\n",
    "        ax.plot( range(1, number_of_stage+1) , out_second_cs , label='player 2')\n",
    "        ax.legend()\n",
    "        ax.yaxis.set_major_locator(MaxNLocator(integer=True))\n",
    "        \n",
    "    return np.array(out_first).sum(), np.array(out_second).sum()\n",
    "    "
   ]
  },
  {
   "cell_type": "markdown",
   "metadata": {},
   "source": [
    "# First task\n",
    "\n",
    "Implement a simple IPD between two players implementing two given strategies. Study the evolution along the tournament confronting different strategies; study the overall outcome in the different configurations."
   ]
  },
  {
   "cell_type": "code",
   "execution_count": 9,
   "metadata": {},
   "outputs": [
    {
     "name": "stdout",
     "output_type": "stream",
     "text": [
      "Let's see what happenes if a mainly nice guy plays against a tit fot tat\n",
      "\n",
      "First player's strategy:\t\tSecond player's strategy:\n",
      "[1 0] \t\t\t\t\t[1 0]\n",
      "[0 1] \t\t\t\t\t[1 0]\n",
      "[1 0] \t\t\t\t\t[0 1]\n",
      "[1 0] \t\t\t\t\t[1 0]\n",
      "[1 0] \t\t\t\t\t[1 0]\n",
      "[1 0] \t\t\t\t\t[1 0]\n",
      "[1 0] \t\t\t\t\t[1 0]\n",
      "[1 0] \t\t\t\t\t[1 0]\n",
      "[1 0] \t\t\t\t\t[1 0]\n",
      "[1 0] \t\t\t\t\t[1 0]\n",
      "\n",
      "The outcome of the first player is:\n",
      "[2, 3, 0, 2, 2, 2, 2, 2, 2, 2] \n",
      "\n",
      "The outcome of the second player is:\n",
      "[2, 0, 3, 2, 2, 2, 2, 2, 2, 2] \n",
      "\n",
      "The total outcome for the first player is: 19\n",
      "The total outcome for the second player is: 19\n"
     ]
    },
    {
     "data": {
      "image/png": "[encoded data removed]",
      "text/plain": [
       "<Figure size 432x288 with 1 Axes>"
      ]
     },
     "metadata": {
      "needs_background": "light"
     },
     "output_type": "display_data"
    }
   ],
   "source": [
    "print('Let\\'s see what happenes if a mainly nice guy plays against a tit fot tat\\n')\n",
    "outcome = play(mainly_nice, tit_for_tat, n, verbose=True)"
   ]
  },
  {
   "cell_type": "markdown",
   "metadata": {},
   "source": [
    "As we can see in this specific total outcomes depend on the strategy adopted by the mainly nice guy, since it is not a deterministic strategy. But we can say that if the last move of the mainly nice guy is defect, the player will have a payoff grater than the opponet's one.\n",
    "\n",
    "Let's run it a lot of time and let's see what happenes"
   ]
  },
  {
   "cell_type": "code",
   "execution_count": 10,
   "metadata": {},
   "outputs": [
    {
     "name": "stdout",
     "output_type": "stream",
     "text": [
      "Mainly Nice average outcome is: 18.031\n",
      "Tit for tat average outcome is: 17.296\n"
     ]
    }
   ],
   "source": [
    "repetition = 1000\n",
    "mainly_nice_outcome = 0\n",
    "tit_for_tat_outcome = 0\n",
    "for i in range(repetition):\n",
    "    outs = play(mainly_nice, tit_for_tat, n)\n",
    "    mainly_nice_outcome += outs[0]\n",
    "    tit_for_tat_outcome += outs[1]\n",
    "mainly_nice_outcome = mainly_nice_outcome / repetition\n",
    "tit_for_tat_outcome = tit_for_tat_outcome / repetition\n",
    "print('Mainly Nice average outcome is:', mainly_nice_outcome)\n",
    "print('Tit for tat average outcome is:', tit_for_tat_outcome)"
   ]
  },
  {
   "cell_type": "markdown",
   "metadata": {},
   "source": [
    "And let's compare this to the total outcome allowing mixed strategy"
   ]
  },
  {
   "cell_type": "code",
   "execution_count": 11,
   "metadata": {},
   "outputs": [
    {
     "name": "stdout",
     "output_type": "stream",
     "text": [
      "First player's strategy:\t\tSecond player's strategy:\n",
      "[0.75 0.25] \t\t\t\t\t[1. 0.]\n",
      "[0.75 0.25] \t\t\t\t\t[0.75 0.25]\n",
      "[0.75 0.25] \t\t\t\t\t[0.75 0.25]\n",
      "[0.75 0.25] \t\t\t\t\t[0.75 0.25]\n",
      "[0.75 0.25] \t\t\t\t\t[0.75 0.25]\n",
      "[0.75 0.25] \t\t\t\t\t[0.75 0.25]\n",
      "[0.75 0.25] \t\t\t\t\t[0.75 0.25]\n",
      "[0.75 0.25] \t\t\t\t\t[0.75 0.25]\n",
      "[0.75 0.25] \t\t\t\t\t[0.75 0.25]\n",
      "[0.75 0.25] \t\t\t\t\t[0.75 0.25]\n",
      "\n",
      "The outcome of the first player is:\n",
      "[2.25, 1.75, 1.75, 1.75, 1.75, 1.75, 1.75, 1.75, 1.75, 1.75] \n",
      "\n",
      "The outcome of the second player is:\n",
      "[1.5, 1.75, 1.75, 1.75, 1.75, 1.75, 1.75, 1.75, 1.75, 1.75] \n",
      "\n",
      "The total outcome for the first player is: 18.0\n",
      "The total outcome for the second player is: 17.25\n"
     ]
    },
    {
     "data": {
      "image/png": "[encoded data removed]",
      "text/plain": [
       "<Figure size 432x288 with 1 Axes>"
      ]
     },
     "metadata": {
      "needs_background": "light"
     },
     "output_type": "display_data"
    }
   ],
   "source": [
    "out = play(mainly_nice_mixed, tit_for_tat, n, verbose=True)"
   ]
  },
  {
   "cell_type": "markdown",
   "metadata": {},
   "source": [
    "In order to demonstrate the correlation between mixed and pure strategies we decided to perform a Student's t-test starting by defining the **null hypothesis** $H_0$ (mixed strategies is correlated to the pure ones) and the level of significance $\\alpha$ = 5%"
   ]
  },
  {
   "cell_type": "code",
   "execution_count": 12,
   "metadata": {},
   "outputs": [
    {
     "name": "stdout",
     "output_type": "stream",
     "text": [
      "mu = 22.5\n",
      "sigma = 1.5456357588351464\n",
      "sample mean = 22.57\n",
      "T = 0.4528880727549621\n"
     ]
    },
    {
     "data": {
      "image/png": "[encoded data removed]",
      "text/plain": [
       "<Figure size 432x288 with 1 Axes>"
      ]
     },
     "metadata": {
      "needs_background": "light"
     },
     "output_type": "display_data"
    },
    {
     "name": "stdout",
     "output_type": "stream",
     "text": [
      "p-value = 0.6516203210681399\n"
     ]
    }
   ],
   "source": [
    "mu = play(mainly_nice_mixed, nice_guy, n, verbose=False)[0]\n",
    "print(\"mu =\", mu)\n",
    "\n",
    "samples_size = 100 # the size of the data sample\n",
    "samples = []\n",
    "for i in range(samples_size):\n",
    "    p1_out = play(mainly_nice, nice_guy, n)[0]\n",
    "    samples.append(p1_out)\n",
    "\n",
    "samples = np.array(samples)\n",
    "sigma = np.sqrt(np.var(samples, ddof=1))\n",
    "print(\"sigma =\", sigma)\n",
    "sample_mean = np.mean(samples)\n",
    "print(\"sample mean =\", sample_mean)\n",
    "T = abs((sample_mean - mu) / (sigma / np.sqrt(samples_size)))\n",
    "print(\"T =\", T)\n",
    "\n",
    "x = np.linspace(-5, +5, 1000)\n",
    "y = stats.t.pdf(x, samples_size - 1)\n",
    "plt.plot(x, y)\n",
    "plt.fill_between(x, y, where=np.abs(x) > np.abs(T), color='lightblue')\n",
    "plt.axvline(T, linestyle='--', color='orange')\n",
    "plt.axvline(-T, linestyle='--', color='blue')\n",
    "plt.ylabel(\"a.u.\")\n",
    "plt.xlabel(\"t\")\n",
    "plt.show()\n",
    "\n",
    "# now we calculate the p-value. Since it's double sided:\n",
    "pvalue = stats.t.cdf(-T, samples_size - 1) + (1. - stats.t.cdf(T, samples_size - 1))\n",
    "print(\"p-value =\", pvalue)"
   ]
  },
  {
   "cell_type": "code",
   "execution_count": 13,
   "metadata": {},
   "outputs": [
    {
     "name": "stdout",
     "output_type": "stream",
     "text": [
      "mu = 27.5\n",
      "sigma = 1.3512059708858513\n",
      "sample mean = 27.55\n",
      "T = 0.37003980945422177\n"
     ]
    },
    {
     "data": {
      "image/png": "[encoded data removed]",
      "text/plain": [
       "<Figure size 432x288 with 1 Axes>"
      ]
     },
     "metadata": {
      "needs_background": "light"
     },
     "output_type": "display_data"
    },
    {
     "name": "stdout",
     "output_type": "stream",
     "text": [
      "p-value = 0.712143278224992\n"
     ]
    }
   ],
   "source": [
    "mu = play(mainly_bad_mixed, nice_guy, n, verbose=False)[0]\n",
    "print(\"mu =\", mu)\n",
    "\n",
    "samples_size = 100 # the size of the data sample\n",
    "samples = []\n",
    "for i in range(samples_size):\n",
    "    p1_out = play(mainly_bad, nice_guy, n)[0]\n",
    "    samples.append(p1_out)\n",
    "\n",
    "samples = np.array(samples)\n",
    "sigma = np.sqrt(np.var(samples, ddof=1))\n",
    "print(\"sigma =\", sigma)\n",
    "sample_mean = np.mean(samples)\n",
    "print(\"sample mean =\", sample_mean)\n",
    "T = abs((sample_mean - mu) / (sigma / np.sqrt(samples_size)))\n",
    "print(\"T =\", T)\n",
    "\n",
    "x = np.linspace(-5, +5, 1000)\n",
    "y = stats.t.pdf(x, samples_size - 1)\n",
    "plt.plot(x, y)\n",
    "plt.fill_between(x, y, where=np.abs(x) > np.abs(T), color='lightblue')\n",
    "plt.axvline(T, linestyle='--', color='orange')\n",
    "plt.axvline(-T, linestyle='--', color='blue')\n",
    "plt.ylabel(\"a.u.\")\n",
    "plt.xlabel(\"t\")\n",
    "plt.show()\n",
    "\n",
    "# now we calculate the p-value. Since it's double sided:\n",
    "pvalue = stats.t.cdf(-T, samples_size - 1) + (1. - stats.t.cdf(T, samples_size - 1))\n",
    "print(\"p-value =\", pvalue)"
   ]
  },
  {
   "cell_type": "markdown",
   "metadata": {},
   "source": [
    "Since the p-value is not $< \\alpha/2$, we accept the null hypothesis.\n",
    "From now on we consider only mixed strategy."
   ]
  },
  {
   "cell_type": "markdown",
   "metadata": {},
   "source": [
    "Let's keep on with some interesting comparisons:\n",
    "* nice guy against bad guy\n",
    "* bad guy against bad guy\n",
    "* tit fot tat against bad guy\n",
    "* nash equilibrium against nash equilibrium\n",
    "* nash equilibrium against tit for tat\n",
    "* nash equilibrium against grim trigger"
   ]
  },
  {
   "cell_type": "code",
   "execution_count": 14,
   "metadata": {},
   "outputs": [
    {
     "name": "stdout",
     "output_type": "stream",
     "text": [
      "First player's strategy:\t\tSecond player's strategy:\n",
      "[1 0] \t\t\t\t\t[0 1]\n",
      "[1 0] \t\t\t\t\t[0 1]\n",
      "[1 0] \t\t\t\t\t[0 1]\n",
      "[1 0] \t\t\t\t\t[0 1]\n",
      "[1 0] \t\t\t\t\t[0 1]\n",
      "[1 0] \t\t\t\t\t[0 1]\n",
      "[1 0] \t\t\t\t\t[0 1]\n",
      "[1 0] \t\t\t\t\t[0 1]\n",
      "[1 0] \t\t\t\t\t[0 1]\n",
      "[1 0] \t\t\t\t\t[0 1]\n",
      "\n",
      "The outcome of the first player is:\n",
      "[0, 0, 0, 0, 0, 0, 0, 0, 0, 0] \n",
      "\n",
      "The outcome of the second player is:\n",
      "[3, 3, 3, 3, 3, 3, 3, 3, 3, 3] \n",
      "\n",
      "The total outcome for the first player is: 0\n",
      "The total outcome for the second player is: 30\n"
     ]
    },
    {
     "data": {
      "image/png": "[encoded data removed]",
      "text/plain": [
       "<Figure size 432x288 with 1 Axes>"
      ]
     },
     "metadata": {
      "needs_background": "light"
     },
     "output_type": "display_data"
    }
   ],
   "source": [
    "out = play(nice_guy, bad_guy, n, verbose=True)"
   ]
  },
  {
   "cell_type": "code",
   "execution_count": 15,
   "metadata": {},
   "outputs": [
    {
     "name": "stdout",
     "output_type": "stream",
     "text": [
      "First player's strategy:\t\tSecond player's strategy:\n",
      "[0 1] \t\t\t\t\t[0 1]\n",
      "[0 1] \t\t\t\t\t[0 1]\n",
      "[0 1] \t\t\t\t\t[0 1]\n",
      "[0 1] \t\t\t\t\t[0 1]\n",
      "[0 1] \t\t\t\t\t[0 1]\n",
      "[0 1] \t\t\t\t\t[0 1]\n",
      "[0 1] \t\t\t\t\t[0 1]\n",
      "[0 1] \t\t\t\t\t[0 1]\n",
      "[0 1] \t\t\t\t\t[0 1]\n",
      "[0 1] \t\t\t\t\t[0 1]\n",
      "\n",
      "The outcome of the first player is:\n",
      "[1, 1, 1, 1, 1, 1, 1, 1, 1, 1] \n",
      "\n",
      "The outcome of the second player is:\n",
      "[1, 1, 1, 1, 1, 1, 1, 1, 1, 1] \n",
      "\n",
      "The total outcome for the first player is: 10\n",
      "The total outcome for the second player is: 10\n"
     ]
    },
    {
     "data": {
      "image/png": "[encoded data removed]",
      "text/plain": [
       "<Figure size 432x288 with 1 Axes>"
      ]
     },
     "metadata": {
      "needs_background": "light"
     },
     "output_type": "display_data"
    }
   ],
   "source": [
    "out = play(bad_guy, bad_guy, n, verbose=True)"
   ]
  },
  {
   "cell_type": "code",
   "execution_count": 16,
   "metadata": {},
   "outputs": [
    {
     "name": "stdout",
     "output_type": "stream",
     "text": [
      "First player's strategy:\t\tSecond player's strategy:\n",
      "[1 0] \t\t\t\t\t[0 1]\n",
      "[0 1] \t\t\t\t\t[0 1]\n",
      "[0 1] \t\t\t\t\t[0 1]\n",
      "[0 1] \t\t\t\t\t[0 1]\n",
      "[0 1] \t\t\t\t\t[0 1]\n",
      "[0 1] \t\t\t\t\t[0 1]\n",
      "[0 1] \t\t\t\t\t[0 1]\n",
      "[0 1] \t\t\t\t\t[0 1]\n",
      "[0 1] \t\t\t\t\t[0 1]\n",
      "[0 1] \t\t\t\t\t[0 1]\n",
      "\n",
      "The outcome of the first player is:\n",
      "[0, 1, 1, 1, 1, 1, 1, 1, 1, 1] \n",
      "\n",
      "The outcome of the second player is:\n",
      "[3, 1, 1, 1, 1, 1, 1, 1, 1, 1] \n",
      "\n",
      "The total outcome for the first player is: 9\n",
      "The total outcome for the second player is: 12\n"
     ]
    },
    {
     "data": {
      "image/png": "[encoded data removed]",
      "text/plain": [
       "<Figure size 432x288 with 1 Axes>"
      ]
     },
     "metadata": {
      "needs_background": "light"
     },
     "output_type": "display_data"
    }
   ],
   "source": [
    "out = play(tit_for_tat, bad_guy, n, verbose=True)"
   ]
  },
  {
   "cell_type": "code",
   "execution_count": 17,
   "metadata": {},
   "outputs": [
    {
     "name": "stdout",
     "output_type": "stream",
     "text": [
      "First player's strategy:\t\tSecond player's strategy:\n",
      "[1 0] \t\t\t\t\t[1 0]\n",
      "[1 0] \t\t\t\t\t[1 0]\n",
      "[1 0] \t\t\t\t\t[1 0]\n",
      "[1 0] \t\t\t\t\t[1 0]\n",
      "[1 0] \t\t\t\t\t[1 0]\n",
      "[1 0] \t\t\t\t\t[1 0]\n",
      "[1 0] \t\t\t\t\t[1 0]\n",
      "[1 0] \t\t\t\t\t[1 0]\n",
      "[1 0] \t\t\t\t\t[1 0]\n",
      "[0 1] \t\t\t\t\t[0 1]\n",
      "\n",
      "The outcome of the first player is:\n",
      "[2, 2, 2, 2, 2, 2, 2, 2, 2, 1] \n",
      "\n",
      "The outcome of the second player is:\n",
      "[2, 2, 2, 2, 2, 2, 2, 2, 2, 1] \n",
      "\n",
      "The total outcome for the first player is: 19\n",
      "The total outcome for the second player is: 19\n"
     ]
    },
    {
     "data": {
      "image/png": "[encoded data removed]",
      "text/plain": [
       "<Figure size 432x288 with 1 Axes>"
      ]
     },
     "metadata": {
      "needs_background": "light"
     },
     "output_type": "display_data"
    }
   ],
   "source": [
    "out = play(nash_equilibrium, nash_equilibrium, n, verbose=True)"
   ]
  },
  {
   "cell_type": "code",
   "execution_count": 18,
   "metadata": {},
   "outputs": [
    {
     "name": "stdout",
     "output_type": "stream",
     "text": [
      "First player's strategy:\t\tSecond player's strategy:\n",
      "[1 0] \t\t\t\t\t[1 0]\n",
      "[1 0] \t\t\t\t\t[1 0]\n",
      "[1 0] \t\t\t\t\t[1 0]\n",
      "[1 0] \t\t\t\t\t[1 0]\n",
      "[1 0] \t\t\t\t\t[1 0]\n",
      "[1 0] \t\t\t\t\t[1 0]\n",
      "[1 0] \t\t\t\t\t[1 0]\n",
      "[1 0] \t\t\t\t\t[1 0]\n",
      "[1 0] \t\t\t\t\t[1 0]\n",
      "[0 1] \t\t\t\t\t[1 0]\n",
      "\n",
      "The outcome of the first player is:\n",
      "[2, 2, 2, 2, 2, 2, 2, 2, 2, 3] \n",
      "\n",
      "The outcome of the second player is:\n",
      "[2, 2, 2, 2, 2, 2, 2, 2, 2, 0] \n",
      "\n",
      "The total outcome for the first player is: 21\n",
      "The total outcome for the second player is: 18\n"
     ]
    },
    {
     "data": {
      "image/png": "[encoded data removed]",
      "text/plain": [
       "<Figure size 432x288 with 1 Axes>"
      ]
     },
     "metadata": {
      "needs_background": "light"
     },
     "output_type": "display_data"
    }
   ],
   "source": [
    "out = play(nash_equilibrium, tit_for_tat, n, verbose=True)"
   ]
  },
  {
   "cell_type": "code",
   "execution_count": 19,
   "metadata": {},
   "outputs": [
    {
     "name": "stdout",
     "output_type": "stream",
     "text": [
      "First player's strategy:\t\tSecond player's strategy:\n",
      "[1 0] \t\t\t\t\t[1 0]\n",
      "[1 0] \t\t\t\t\t[1 0]\n",
      "[1 0] \t\t\t\t\t[1 0]\n",
      "[1 0] \t\t\t\t\t[1 0]\n",
      "[1 0] \t\t\t\t\t[1 0]\n",
      "[1 0] \t\t\t\t\t[1 0]\n",
      "[1 0] \t\t\t\t\t[1 0]\n",
      "[1 0] \t\t\t\t\t[1 0]\n",
      "[1 0] \t\t\t\t\t[1 0]\n",
      "[0 1] \t\t\t\t\t[1 0]\n",
      "\n",
      "The outcome of the first player is:\n",
      "[2, 2, 2, 2, 2, 2, 2, 2, 2, 3] \n",
      "\n",
      "The outcome of the second player is:\n",
      "[2, 2, 2, 2, 2, 2, 2, 2, 2, 0] \n",
      "\n",
      "The total outcome for the first player is: 21\n",
      "The total outcome for the second player is: 18\n"
     ]
    },
    {
     "data": {
      "image/png": "[encoded data removed]",
      "text/plain": [
       "<Figure size 432x288 with 1 Axes>"
      ]
     },
     "metadata": {
      "needs_background": "light"
     },
     "output_type": "display_data"
    }
   ],
   "source": [
    "outcome = play( nash_equilibrium, grim_trigger, n, verbose=True)"
   ]
  },
  {
   "cell_type": "markdown",
   "metadata": {},
   "source": [
    "## Conclusions\n",
    "\n",
    "From this we can conclude that the way to achieve the best payoff is to play bad guy against nice guy, but in this configuration the nice guy achieve the lowest possible payoff, so nobody will play nice guy. \n",
    "\n",
    "An improvement could be playing bad guy against bad guy, but in this case both payoffs are not so high, playing tit for tat against bad guy does not improve the payoff of the first player, but allow the second player to respond with tit for tat.\n",
    "\n",
    "Finally, as we know from the theory we can say that the Nash Equilibrium is the best strategy to play for both player, it consists on collaborate for each round but the last one, in this case after the last round there is no punishment aviable, so the best choice for all the player is acting in a selfish way and defect. "
   ]
  },
  {
   "cell_type": "markdown",
   "metadata": {},
   "source": [
    "# Second task\n",
    "\n",
    "Implement a multiple players IPD (MPIPD) where several strategies play against each other in a roud-robin scheme"
   ]
  },
  {
   "cell_type": "markdown",
   "metadata": {},
   "source": [
    "#### Preliminary definition\n",
    "\n",
    "Let's define the round robin scheme"
   ]
  },
  {
   "cell_type": "code",
   "execution_count": 20,
   "metadata": {},
   "outputs": [],
   "source": [
    "# If you want to see really in details what is happening set verbose = True\n",
    "def round_robin(strategies, labels, number_of_stage, verbose=False):\n",
    "    payoffs = np.empty((len(strategies),len(strategies)), dtype=object)\n",
    "    winners = np.empty((len(strategies),len(strategies)), dtype=str)\n",
    "    for i, (f_strat, f_label) in enumerate(zip(strategies, labels)):\n",
    "        for j, (s_strat, s_label) in enumerate(zip(strategies, labels)):\n",
    "            if verbose:\n",
    "                print('First player is', f_label, 'second player is', s_label)\n",
    "            outcome = play(f_strat, s_strat, number_of_stage, verbose=verbose)\n",
    "            if outcome[0] == outcome[1]:\n",
    "                winners[i, j] = '\\u25EF' # It is a circle\n",
    "                if verbose:\n",
    "                    print('\\nPlayers draw\\n\\n')\n",
    "            elif outcome[0] > outcome[1]:\n",
    "                winners[i, j] = '\\u2B60' # It is a left arrow\n",
    "                if verbose:\n",
    "                    print('\\nPlayer', f_label, 'wins\\n\\n')\n",
    "            else:\n",
    "                winners[i,j] = '\\u2B61' # It is a up arrow\n",
    "                if verbose:\n",
    "                    print('\\nPlayer', s_label, 'wins\\n\\n')\n",
    "            payoffs[i, j] = outcome\n",
    "    payoffs = pd.DataFrame(payoffs, columns = strategy_labels , index= strategy_labels)\n",
    "    winners = pd.DataFrame(winners, columns = strategy_labels , index= strategy_labels)\n",
    "    return payoffs, winners"
   ]
  },
  {
   "cell_type": "markdown",
   "metadata": {},
   "source": [
    "## Output\n",
    "\n",
    "Let's see what round_robin produces, if you want to see the whole process set verbose = True.\n",
    "\n",
    "Whatch out, inside the touple the first payoff is the payoff of the player on the left."
   ]
  },
  {
   "cell_type": "code",
   "execution_count": 21,
   "metadata": {},
   "outputs": [
    {
     "data": {
      "text/html": [
       "<div>\n",
       "<style scoped>\n",
       "    .dataframe tbody tr th:only-of-type {\n",
       "        vertical-align: middle;\n",
       "    }\n",
       "\n",
       "    .dataframe tbody tr th {\n",
       "        vertical-align: top;\n",
       "    }\n",
       "\n",
       "    .dataframe thead th {\n",
       "        text-align: right;\n",
       "    }\n",
       "</style>\n",
       "<table border=\"1\" class=\"dataframe\">\n",
       "  <thead>\n",
       "    <tr style=\"text-align: right;\">\n",
       "      <th></th>\n",
       "      <th>Nice Guy</th>\n",
       "      <th>Bad Guy</th>\n",
       "      <th>Mainly Nice Mixed</th>\n",
       "      <th>Mainly Bad Mixed</th>\n",
       "      <th>Tit for Tat</th>\n",
       "      <th>Nash equilibrium</th>\n",
       "    </tr>\n",
       "  </thead>\n",
       "  <tbody>\n",
       "    <tr>\n",
       "      <th>Nice Guy</th>\n",
       "      <td>(20, 20)</td>\n",
       "      <td>(0, 30)</td>\n",
       "      <td>(15.0, 22.5)</td>\n",
       "      <td>(5.0, 27.5)</td>\n",
       "      <td>(20, 20)</td>\n",
       "      <td>(18, 21)</td>\n",
       "    </tr>\n",
       "    <tr>\n",
       "      <th>Bad Guy</th>\n",
       "      <td>(30, 0)</td>\n",
       "      <td>(10, 10)</td>\n",
       "      <td>(25.0, 2.5)</td>\n",
       "      <td>(15.0, 7.5)</td>\n",
       "      <td>(12, 9)</td>\n",
       "      <td>(28, 1)</td>\n",
       "    </tr>\n",
       "    <tr>\n",
       "      <th>Mainly Nice Mixed</th>\n",
       "      <td>(22.5, 15.0)</td>\n",
       "      <td>(2.5, 25.0)</td>\n",
       "      <td>(17.5, 17.5)</td>\n",
       "      <td>(7.5, 22.5)</td>\n",
       "      <td>(18.0, 17.25)</td>\n",
       "      <td>(20.5, 16.0)</td>\n",
       "    </tr>\n",
       "    <tr>\n",
       "      <th>Mainly Bad Mixed</th>\n",
       "      <td>(27.5, 5.0)</td>\n",
       "      <td>(7.5, 15.0)</td>\n",
       "      <td>(22.5, 7.5)</td>\n",
       "      <td>(12.5, 12.5)</td>\n",
       "      <td>(14.0, 11.75)</td>\n",
       "      <td>(25.5, 6.0)</td>\n",
       "    </tr>\n",
       "    <tr>\n",
       "      <th>Tit for Tat</th>\n",
       "      <td>(20, 20)</td>\n",
       "      <td>(9, 12)</td>\n",
       "      <td>(17.25, 18.0)</td>\n",
       "      <td>(11.75, 14.0)</td>\n",
       "      <td>(20, 20)</td>\n",
       "      <td>(18, 21)</td>\n",
       "    </tr>\n",
       "    <tr>\n",
       "      <th>Nash equilibrium</th>\n",
       "      <td>(21, 18)</td>\n",
       "      <td>(1, 28)</td>\n",
       "      <td>(16.0, 20.5)</td>\n",
       "      <td>(6.0, 25.5)</td>\n",
       "      <td>(21, 18)</td>\n",
       "      <td>(19, 19)</td>\n",
       "    </tr>\n",
       "  </tbody>\n",
       "</table>\n",
       "</div>"
      ],
      "text/plain": [
       "                       Nice Guy      Bad Guy Mainly Nice Mixed  \\\n",
       "Nice Guy               (20, 20)      (0, 30)      (15.0, 22.5)   \n",
       "Bad Guy                 (30, 0)     (10, 10)       (25.0, 2.5)   \n",
       "Mainly Nice Mixed  (22.5, 15.0)  (2.5, 25.0)      (17.5, 17.5)   \n",
       "Mainly Bad Mixed    (27.5, 5.0)  (7.5, 15.0)       (22.5, 7.5)   \n",
       "Tit for Tat            (20, 20)      (9, 12)     (17.25, 18.0)   \n",
       "Nash equilibrium       (21, 18)      (1, 28)      (16.0, 20.5)   \n",
       "\n",
       "                  Mainly Bad Mixed    Tit for Tat Nash equilibrium  \n",
       "Nice Guy               (5.0, 27.5)       (20, 20)         (18, 21)  \n",
       "Bad Guy                (15.0, 7.5)        (12, 9)          (28, 1)  \n",
       "Mainly Nice Mixed      (7.5, 22.5)  (18.0, 17.25)     (20.5, 16.0)  \n",
       "Mainly Bad Mixed      (12.5, 12.5)  (14.0, 11.75)      (25.5, 6.0)  \n",
       "Tit for Tat          (11.75, 14.0)       (20, 20)         (18, 21)  \n",
       "Nash equilibrium       (6.0, 25.5)       (21, 18)         (19, 19)  "
      ]
     },
     "metadata": {},
     "output_type": "display_data"
    },
    {
     "data": {
      "text/html": [
       "<div>\n",
       "<style scoped>\n",
       "    .dataframe tbody tr th:only-of-type {\n",
       "        vertical-align: middle;\n",
       "    }\n",
       "\n",
       "    .dataframe tbody tr th {\n",
       "        vertical-align: top;\n",
       "    }\n",
       "\n",
       "    .dataframe thead th {\n",
       "        text-align: right;\n",
       "    }\n",
       "</style>\n",
       "<table border=\"1\" class=\"dataframe\">\n",
       "  <thead>\n",
       "    <tr style=\"text-align: right;\">\n",
       "      <th></th>\n",
       "      <th>Nice Guy</th>\n",
       "      <th>Bad Guy</th>\n",
       "      <th>Mainly Nice Mixed</th>\n",
       "      <th>Mainly Bad Mixed</th>\n",
       "      <th>Tit for Tat</th>\n",
       "      <th>Nash equilibrium</th>\n",
       "    </tr>\n",
       "  </thead>\n",
       "  <tbody>\n",
       "    <tr>\n",
       "      <th>Nice Guy</th>\n",
       "      <td>◯</td>\n",
       "      <td>⭡</td>\n",
       "      <td>⭡</td>\n",
       "      <td>⭡</td>\n",
       "      <td>◯</td>\n",
       "      <td>⭡</td>\n",
       "    </tr>\n",
       "    <tr>\n",
       "      <th>Bad Guy</th>\n",
       "      <td>⭠</td>\n",
       "      <td>◯</td>\n",
       "      <td>⭠</td>\n",
       "      <td>⭠</td>\n",
       "      <td>⭠</td>\n",
       "      <td>⭠</td>\n",
       "    </tr>\n",
       "    <tr>\n",
       "      <th>Mainly Nice Mixed</th>\n",
       "      <td>⭠</td>\n",
       "      <td>⭡</td>\n",
       "      <td>◯</td>\n",
       "      <td>⭡</td>\n",
       "      <td>⭠</td>\n",
       "      <td>⭠</td>\n",
       "    </tr>\n",
       "    <tr>\n",
       "      <th>Mainly Bad Mixed</th>\n",
       "      <td>⭠</td>\n",
       "      <td>⭡</td>\n",
       "      <td>⭠</td>\n",
       "      <td>◯</td>\n",
       "      <td>⭠</td>\n",
       "      <td>⭠</td>\n",
       "    </tr>\n",
       "    <tr>\n",
       "      <th>Tit for Tat</th>\n",
       "      <td>◯</td>\n",
       "      <td>⭡</td>\n",
       "      <td>⭡</td>\n",
       "      <td>⭡</td>\n",
       "      <td>◯</td>\n",
       "      <td>⭡</td>\n",
       "    </tr>\n",
       "    <tr>\n",
       "      <th>Nash equilibrium</th>\n",
       "      <td>⭠</td>\n",
       "      <td>⭡</td>\n",
       "      <td>⭡</td>\n",
       "      <td>⭡</td>\n",
       "      <td>⭠</td>\n",
       "      <td>◯</td>\n",
       "    </tr>\n",
       "  </tbody>\n",
       "</table>\n",
       "</div>"
      ],
      "text/plain": [
       "                  Nice Guy Bad Guy Mainly Nice Mixed Mainly Bad Mixed  \\\n",
       "Nice Guy                 ◯       ⭡                 ⭡                ⭡   \n",
       "Bad Guy                  ⭠       ◯                 ⭠                ⭠   \n",
       "Mainly Nice Mixed        ⭠       ⭡                 ◯                ⭡   \n",
       "Mainly Bad Mixed         ⭠       ⭡                 ⭠                ◯   \n",
       "Tit for Tat              ◯       ⭡                 ⭡                ⭡   \n",
       "Nash equilibrium         ⭠       ⭡                 ⭡                ⭡   \n",
       "\n",
       "                  Tit for Tat Nash equilibrium  \n",
       "Nice Guy                    ◯                ⭡  \n",
       "Bad Guy                     ⭠                ⭠  \n",
       "Mainly Nice Mixed           ⭠                ⭠  \n",
       "Mainly Bad Mixed            ⭠                ⭠  \n",
       "Tit for Tat                 ◯                ⭡  \n",
       "Nash equilibrium            ⭠                ◯  "
      ]
     },
     "metadata": {},
     "output_type": "display_data"
    }
   ],
   "source": [
    "strategies = [nice_guy, bad_guy, mainly_nice_mixed, mainly_bad_mixed, tit_for_tat, nash_equilibrium]\n",
    "strategy_labels =['Nice Guy','Bad Guy','Mainly Nice Mixed', 'Mainly Bad Mixed', 'Tit for Tat', 'Nash equilibrium']\n",
    "\n",
    "payoffs, winners = round_robin(strategies, strategy_labels, n, verbose=False)\n",
    "\n",
    "display(payoffs)\n",
    "display(winners)"
   ]
  },
  {
   "cell_type": "markdown",
   "metadata": {},
   "source": [
    "# Third task\n",
    "\n",
    "Iterate what done in the previous task (repeated MPIPD, rMPIPD) by increasing the population implementing a given strategy depending on the results that strategy achieved in the previous iteration."
   ]
  },
  {
   "cell_type": "markdown",
   "metadata": {},
   "source": [
    "## Implementation with random propagation"
   ]
  },
  {
   "cell_type": "code",
   "execution_count": 22,
   "metadata": {
    "scrolled": true
   },
   "outputs": [
    {
     "name": "stdout",
     "output_type": "stream",
     "text": [
      "                       Nice Guy      Bad Guy Mainly Nice Mixed  \\\n",
      "Nice Guy               (20, 20)      (0, 30)      (15.0, 22.5)   \n",
      "Bad Guy                 (30, 0)     (10, 10)       (25.0, 2.5)   \n",
      "Mainly Nice Mixed  (22.5, 15.0)  (2.5, 25.0)      (17.5, 17.5)   \n",
      "Mainly Bad Mixed    (27.5, 5.0)  (7.5, 15.0)       (22.5, 7.5)   \n",
      "Tit for Tat            (20, 20)      (9, 12)     (17.25, 18.0)   \n",
      "Nash equilibrium       (21, 18)      (1, 28)      (16.0, 20.5)   \n",
      "\n",
      "                  Mainly Bad Mixed    Tit for Tat Nash equilibrium  \\\n",
      "Nice Guy               (5.0, 27.5)       (20, 20)         (18, 21)   \n",
      "Bad Guy                (15.0, 7.5)        (12, 9)          (28, 1)   \n",
      "Mainly Nice Mixed      (7.5, 22.5)  (18.0, 17.25)     (20.5, 16.0)   \n",
      "Mainly Bad Mixed      (12.5, 12.5)  (14.0, 11.75)      (25.5, 6.0)   \n",
      "Tit for Tat          (11.75, 14.0)       (20, 20)         (18, 21)   \n",
      "Nash equilibrium       (6.0, 25.5)       (21, 18)         (19, 19)   \n",
      "\n",
      "                                                                 Sum  \n",
      "Nice Guy                                                         219  \n",
      "Bad Guy            (30, 0, 10, 10, 25.0, 2.5, 15.0, 7.5, 12, 9, 2...  \n",
      "Mainly Nice Mixed  (22.5, 15.0, 2.5, 25.0, 17.5, 17.5, 7.5, 22.5,...  \n",
      "Mainly Bad Mixed   (27.5, 5.0, 7.5, 15.0, 22.5, 7.5, 12.5, 12.5, ...  \n",
      "Tit for Tat        (20, 20, 9, 12, 17.25, 18.0, 11.75, 14.0, 20, ...  \n",
      "Nash equilibrium   (21, 18, 1, 28, 16.0, 20.5, 6.0, 25.5, 21, 18,...  \n",
      "                       Nice Guy      Bad Guy Mainly Nice Mixed  \\\n",
      "Nice Guy               (20, 20)      (0, 30)      (15.0, 22.5)   \n",
      "Bad Guy                 (30, 0)     (10, 10)       (25.0, 2.5)   \n",
      "Mainly Nice Mixed  (22.5, 15.0)  (2.5, 25.0)      (17.5, 17.5)   \n",
      "Mainly Bad Mixed    (27.5, 5.0)  (7.5, 15.0)       (22.5, 7.5)   \n",
      "Tit for Tat            (20, 20)      (9, 12)     (17.25, 18.0)   \n",
      "Nash equilibrium       (21, 18)      (1, 28)      (16.0, 20.5)   \n",
      "\n",
      "                  Mainly Bad Mixed    Tit for Tat Nash equilibrium  \\\n",
      "Nice Guy               (5.0, 27.5)       (20, 20)         (18, 21)   \n",
      "Bad Guy                (15.0, 7.5)        (12, 9)          (28, 1)   \n",
      "Mainly Nice Mixed      (7.5, 22.5)  (18.0, 17.25)     (20.5, 16.0)   \n",
      "Mainly Bad Mixed      (12.5, 12.5)  (14.0, 11.75)      (25.5, 6.0)   \n",
      "Tit for Tat          (11.75, 14.0)       (20, 20)         (18, 21)   \n",
      "Nash equilibrium       (6.0, 25.5)       (21, 18)         (19, 19)   \n",
      "\n",
      "                                                                 Sum  \n",
      "Nice Guy                                                         219  \n",
      "Bad Guy                                                          150  \n",
      "Mainly Nice Mixed  (22.5, 15.0, 2.5, 25.0, 17.5, 17.5, 7.5, 22.5,...  \n",
      "Mainly Bad Mixed   (27.5, 5.0, 7.5, 15.0, 22.5, 7.5, 12.5, 12.5, ...  \n",
      "Tit for Tat        (20, 20, 9, 12, 17.25, 18.0, 11.75, 14.0, 20, ...  \n",
      "Nash equilibrium   (21, 18, 1, 28, 16.0, 20.5, 6.0, 25.5, 21, 18,...  \n",
      "                       Nice Guy      Bad Guy Mainly Nice Mixed  \\\n",
      "Nice Guy               (20, 20)      (0, 30)      (15.0, 22.5)   \n",
      "Bad Guy                 (30, 0)     (10, 10)       (25.0, 2.5)   \n",
      "Mainly Nice Mixed  (22.5, 15.0)  (2.5, 25.0)      (17.5, 17.5)   \n",
      "Mainly Bad Mixed    (27.5, 5.0)  (7.5, 15.0)       (22.5, 7.5)   \n",
      "Tit for Tat            (20, 20)      (9, 12)     (17.25, 18.0)   \n",
      "Nash equilibrium       (21, 18)      (1, 28)      (16.0, 20.5)   \n",
      "\n",
      "                  Mainly Bad Mixed    Tit for Tat Nash equilibrium  \\\n",
      "Nice Guy               (5.0, 27.5)       (20, 20)         (18, 21)   \n",
      "Bad Guy                (15.0, 7.5)        (12, 9)          (28, 1)   \n",
      "Mainly Nice Mixed      (7.5, 22.5)  (18.0, 17.25)     (20.5, 16.0)   \n",
      "Mainly Bad Mixed      (12.5, 12.5)  (14.0, 11.75)      (25.5, 6.0)   \n",
      "Tit for Tat          (11.75, 14.0)       (20, 20)         (18, 21)   \n",
      "Nash equilibrium       (6.0, 25.5)       (21, 18)         (19, 19)   \n",
      "\n",
      "                                                                 Sum  \n",
      "Nice Guy                                                         219  \n",
      "Bad Guy                                                          150  \n",
      "Mainly Nice Mixed                                             201.75  \n",
      "Mainly Bad Mixed   (27.5, 5.0, 7.5, 15.0, 22.5, 7.5, 12.5, 12.5, ...  \n",
      "Tit for Tat        (20, 20, 9, 12, 17.25, 18.0, 11.75, 14.0, 20, ...  \n",
      "Nash equilibrium   (21, 18, 1, 28, 16.0, 20.5, 6.0, 25.5, 21, 18,...  \n",
      "                       Nice Guy      Bad Guy Mainly Nice Mixed  \\\n",
      "Nice Guy               (20, 20)      (0, 30)      (15.0, 22.5)   \n",
      "Bad Guy                 (30, 0)     (10, 10)       (25.0, 2.5)   \n",
      "Mainly Nice Mixed  (22.5, 15.0)  (2.5, 25.0)      (17.5, 17.5)   \n",
      "Mainly Bad Mixed    (27.5, 5.0)  (7.5, 15.0)       (22.5, 7.5)   \n",
      "Tit for Tat            (20, 20)      (9, 12)     (17.25, 18.0)   \n",
      "Nash equilibrium       (21, 18)      (1, 28)      (16.0, 20.5)   \n",
      "\n",
      "                  Mainly Bad Mixed    Tit for Tat Nash equilibrium  \\\n",
      "Nice Guy               (5.0, 27.5)       (20, 20)         (18, 21)   \n",
      "Bad Guy                (15.0, 7.5)        (12, 9)          (28, 1)   \n",
      "Mainly Nice Mixed      (7.5, 22.5)  (18.0, 17.25)     (20.5, 16.0)   \n",
      "Mainly Bad Mixed      (12.5, 12.5)  (14.0, 11.75)      (25.5, 6.0)   \n",
      "Tit for Tat          (11.75, 14.0)       (20, 20)         (18, 21)   \n",
      "Nash equilibrium       (6.0, 25.5)       (21, 18)         (19, 19)   \n",
      "\n",
      "                                                                 Sum  \n",
      "Nice Guy                                                         219  \n",
      "Bad Guy                                                          150  \n",
      "Mainly Nice Mixed                                             201.75  \n",
      "Mainly Bad Mixed                                              167.25  \n",
      "Tit for Tat        (20, 20, 9, 12, 17.25, 18.0, 11.75, 14.0, 20, ...  \n",
      "Nash equilibrium   (21, 18, 1, 28, 16.0, 20.5, 6.0, 25.5, 21, 18,...  \n",
      "                       Nice Guy      Bad Guy Mainly Nice Mixed  \\\n",
      "Nice Guy               (20, 20)      (0, 30)      (15.0, 22.5)   \n",
      "Bad Guy                 (30, 0)     (10, 10)       (25.0, 2.5)   \n",
      "Mainly Nice Mixed  (22.5, 15.0)  (2.5, 25.0)      (17.5, 17.5)   \n",
      "Mainly Bad Mixed    (27.5, 5.0)  (7.5, 15.0)       (22.5, 7.5)   \n",
      "Tit for Tat            (20, 20)      (9, 12)     (17.25, 18.0)   \n",
      "Nash equilibrium       (21, 18)      (1, 28)      (16.0, 20.5)   \n",
      "\n",
      "                  Mainly Bad Mixed    Tit for Tat Nash equilibrium  \\\n",
      "Nice Guy               (5.0, 27.5)       (20, 20)         (18, 21)   \n",
      "Bad Guy                (15.0, 7.5)        (12, 9)          (28, 1)   \n",
      "Mainly Nice Mixed      (7.5, 22.5)  (18.0, 17.25)     (20.5, 16.0)   \n",
      "Mainly Bad Mixed      (12.5, 12.5)  (14.0, 11.75)      (25.5, 6.0)   \n",
      "Tit for Tat          (11.75, 14.0)       (20, 20)         (18, 21)   \n",
      "Nash equilibrium       (6.0, 25.5)       (21, 18)         (19, 19)   \n",
      "\n",
      "                                                                 Sum  \n",
      "Nice Guy                                                         219  \n",
      "Bad Guy                                                          150  \n",
      "Mainly Nice Mixed                                             201.75  \n",
      "Mainly Bad Mixed                                              167.25  \n",
      "Tit for Tat                                                      201  \n",
      "Nash equilibrium   (21, 18, 1, 28, 16.0, 20.5, 6.0, 25.5, 21, 18,...  \n",
      "                       Nice Guy      Bad Guy Mainly Nice Mixed  \\\n",
      "Nice Guy               (20, 20)      (0, 30)      (15.0, 22.5)   \n",
      "Bad Guy                 (30, 0)     (10, 10)       (25.0, 2.5)   \n",
      "Mainly Nice Mixed  (22.5, 15.0)  (2.5, 25.0)      (17.5, 17.5)   \n",
      "Mainly Bad Mixed    (27.5, 5.0)  (7.5, 15.0)       (22.5, 7.5)   \n",
      "Tit for Tat            (20, 20)      (9, 12)     (17.25, 18.0)   \n",
      "Nash equilibrium       (21, 18)      (1, 28)      (16.0, 20.5)   \n",
      "\n",
      "                  Mainly Bad Mixed    Tit for Tat Nash equilibrium     Sum  \n",
      "Nice Guy               (5.0, 27.5)       (20, 20)         (18, 21)     219  \n",
      "Bad Guy                (15.0, 7.5)        (12, 9)          (28, 1)     150  \n",
      "Mainly Nice Mixed      (7.5, 22.5)  (18.0, 17.25)     (20.5, 16.0)  201.75  \n",
      "Mainly Bad Mixed      (12.5, 12.5)  (14.0, 11.75)      (25.5, 6.0)  167.25  \n",
      "Tit for Tat          (11.75, 14.0)       (20, 20)         (18, 21)     201  \n",
      "Nash equilibrium       (6.0, 25.5)       (21, 18)         (19, 19)     213  \n"
     ]
    },
    {
     "ename": "AttributeError",
     "evalue": "'BlockManager' object has no attribute 'T'",
     "output_type": "error",
     "traceback": [
      "\u001b[1;31m---------------------------------------------------------------------------\u001b[0m",
      "\u001b[1;31mAttributeError\u001b[0m                            Traceback (most recent call last)",
      "\u001b[1;32m<ipython-input-22-519238cc823e>\u001b[0m in \u001b[0;36m<module>\u001b[1;34m\u001b[0m\n\u001b[0;32m     23\u001b[0m         \u001b[1;32mtry\u001b[0m\u001b[1;33m:\u001b[0m\u001b[1;33m\u001b[0m\u001b[1;33m\u001b[0m\u001b[0m\n\u001b[1;32m---> 24\u001b[1;33m             \u001b[0ml\u001b[0m \u001b[1;33m=\u001b[0m \u001b[0mlist\u001b[0m\u001b[1;33m(\u001b[0m\u001b[0mpayoffs\u001b[0m\u001b[1;33m.\u001b[0m\u001b[0mat\u001b[0m\u001b[1;33m[\u001b[0m\u001b[0mstrategy_labels\u001b[0m\u001b[1;33m[\u001b[0m\u001b[0mj\u001b[0m\u001b[1;33m]\u001b[0m \u001b[1;33m,\u001b[0m\u001b[1;34m\"Sum\"\u001b[0m\u001b[1;33m]\u001b[0m\u001b[1;33m)\u001b[0m\u001b[1;33m\u001b[0m\u001b[1;33m\u001b[0m\u001b[0m\n\u001b[0m\u001b[0;32m     25\u001b[0m             \u001b[0mpayoffs\u001b[0m\u001b[1;33m.\u001b[0m\u001b[0mat\u001b[0m\u001b[1;33m[\u001b[0m\u001b[0mstrategy_labels\u001b[0m\u001b[1;33m[\u001b[0m\u001b[0mj\u001b[0m\u001b[1;33m]\u001b[0m\u001b[1;33m,\u001b[0m \u001b[1;34m\"Sum\"\u001b[0m\u001b[1;33m]\u001b[0m \u001b[1;33m=\u001b[0m \u001b[0msum\u001b[0m\u001b[1;33m(\u001b[0m\u001b[0ml\u001b[0m\u001b[1;33m[\u001b[0m\u001b[1;36m0\u001b[0m\u001b[1;33m]\u001b[0m\u001b[1;33m)\u001b[0m\u001b[1;33m\u001b[0m\u001b[1;33m\u001b[0m\u001b[0m\n",
      "\u001b[1;32mD:\\Programmi\\anaconda3\\lib\\site-packages\\pandas\\core\\indexing.py\u001b[0m in \u001b[0;36m__getitem__\u001b[1;34m(self, key)\u001b[0m\n\u001b[0;32m   2178\u001b[0m         \u001b[0mkey\u001b[0m \u001b[1;33m=\u001b[0m \u001b[0mself\u001b[0m\u001b[1;33m.\u001b[0m\u001b[0m_convert_key\u001b[0m\u001b[1;33m(\u001b[0m\u001b[0mkey\u001b[0m\u001b[1;33m)\u001b[0m\u001b[1;33m\u001b[0m\u001b[1;33m\u001b[0m\u001b[0m\n\u001b[1;32m-> 2179\u001b[1;33m         \u001b[1;32mreturn\u001b[0m \u001b[0mself\u001b[0m\u001b[1;33m.\u001b[0m\u001b[0mobj\u001b[0m\u001b[1;33m.\u001b[0m\u001b[0m_get_value\u001b[0m\u001b[1;33m(\u001b[0m\u001b[1;33m*\u001b[0m\u001b[0mkey\u001b[0m\u001b[1;33m,\u001b[0m \u001b[0mtakeable\u001b[0m\u001b[1;33m=\u001b[0m\u001b[0mself\u001b[0m\u001b[1;33m.\u001b[0m\u001b[0m_takeable\u001b[0m\u001b[1;33m)\u001b[0m\u001b[1;33m\u001b[0m\u001b[1;33m\u001b[0m\u001b[0m\n\u001b[0m\u001b[0;32m   2180\u001b[0m \u001b[1;33m\u001b[0m\u001b[0m\n",
      "\u001b[1;32mD:\\Programmi\\anaconda3\\lib\\site-packages\\pandas\\core\\frame.py\u001b[0m in \u001b[0;36m_get_value\u001b[1;34m(self, index, col, takeable)\u001b[0m\n\u001b[0;32m   2902\u001b[0m \u001b[1;33m\u001b[0m\u001b[0m\n\u001b[1;32m-> 2903\u001b[1;33m         \u001b[0mseries\u001b[0m \u001b[1;33m=\u001b[0m \u001b[0mself\u001b[0m\u001b[1;33m.\u001b[0m\u001b[0m_get_item_cache\u001b[0m\u001b[1;33m(\u001b[0m\u001b[0mcol\u001b[0m\u001b[1;33m)\u001b[0m\u001b[1;33m\u001b[0m\u001b[1;33m\u001b[0m\u001b[0m\n\u001b[0m\u001b[0;32m   2904\u001b[0m         \u001b[0mengine\u001b[0m \u001b[1;33m=\u001b[0m \u001b[0mself\u001b[0m\u001b[1;33m.\u001b[0m\u001b[0mindex\u001b[0m\u001b[1;33m.\u001b[0m\u001b[0m_engine\u001b[0m\u001b[1;33m\u001b[0m\u001b[1;33m\u001b[0m\u001b[0m\n",
      "\u001b[1;32mD:\\Programmi\\anaconda3\\lib\\site-packages\\pandas\\core\\generic.py\u001b[0m in \u001b[0;36m_get_item_cache\u001b[1;34m(self, item)\u001b[0m\n\u001b[0;32m   3586\u001b[0m             \u001b[0mvalues\u001b[0m \u001b[1;33m=\u001b[0m \u001b[0mself\u001b[0m\u001b[1;33m.\u001b[0m\u001b[0m_data\u001b[0m\u001b[1;33m.\u001b[0m\u001b[0mget\u001b[0m\u001b[1;33m(\u001b[0m\u001b[0mitem\u001b[0m\u001b[1;33m)\u001b[0m\u001b[1;33m\u001b[0m\u001b[1;33m\u001b[0m\u001b[0m\n\u001b[1;32m-> 3587\u001b[1;33m             \u001b[0mres\u001b[0m \u001b[1;33m=\u001b[0m \u001b[0mself\u001b[0m\u001b[1;33m.\u001b[0m\u001b[0m_box_item_values\u001b[0m\u001b[1;33m(\u001b[0m\u001b[0mitem\u001b[0m\u001b[1;33m,\u001b[0m \u001b[0mvalues\u001b[0m\u001b[1;33m)\u001b[0m\u001b[1;33m\u001b[0m\u001b[1;33m\u001b[0m\u001b[0m\n\u001b[0m\u001b[0;32m   3588\u001b[0m             \u001b[0mcache\u001b[0m\u001b[1;33m[\u001b[0m\u001b[0mitem\u001b[0m\u001b[1;33m]\u001b[0m \u001b[1;33m=\u001b[0m \u001b[0mres\u001b[0m\u001b[1;33m\u001b[0m\u001b[1;33m\u001b[0m\u001b[0m\n",
      "\u001b[1;32mD:\\Programmi\\anaconda3\\lib\\site-packages\\pandas\\core\\frame.py\u001b[0m in \u001b[0;36m_box_item_values\u001b[1;34m(self, key, values)\u001b[0m\n\u001b[0;32m   3068\u001b[0m         \u001b[1;32mif\u001b[0m \u001b[0mvalues\u001b[0m\u001b[1;33m.\u001b[0m\u001b[0mndim\u001b[0m \u001b[1;33m==\u001b[0m \u001b[1;36m2\u001b[0m\u001b[1;33m:\u001b[0m\u001b[1;33m\u001b[0m\u001b[1;33m\u001b[0m\u001b[0m\n\u001b[1;32m-> 3069\u001b[1;33m             \u001b[1;32mreturn\u001b[0m \u001b[0mself\u001b[0m\u001b[1;33m.\u001b[0m\u001b[0m_constructor\u001b[0m\u001b[1;33m(\u001b[0m\u001b[0mvalues\u001b[0m\u001b[1;33m.\u001b[0m\u001b[0mT\u001b[0m\u001b[1;33m,\u001b[0m \u001b[0mcolumns\u001b[0m\u001b[1;33m=\u001b[0m\u001b[0mitems\u001b[0m\u001b[1;33m,\u001b[0m \u001b[0mindex\u001b[0m\u001b[1;33m=\u001b[0m\u001b[0mself\u001b[0m\u001b[1;33m.\u001b[0m\u001b[0mindex\u001b[0m\u001b[1;33m)\u001b[0m\u001b[1;33m\u001b[0m\u001b[1;33m\u001b[0m\u001b[0m\n\u001b[0m\u001b[0;32m   3070\u001b[0m         \u001b[1;32melse\u001b[0m\u001b[1;33m:\u001b[0m\u001b[1;33m\u001b[0m\u001b[1;33m\u001b[0m\u001b[0m\n",
      "\u001b[1;31mAttributeError\u001b[0m: 'BlockManager' object has no attribute 'T'",
      "\nDuring handling of the above exception, another exception occurred:\n",
      "\u001b[1;31mAttributeError\u001b[0m                            Traceback (most recent call last)",
      "\u001b[1;32m<ipython-input-22-519238cc823e>\u001b[0m in \u001b[0;36m<module>\u001b[1;34m\u001b[0m\n\u001b[0;32m     25\u001b[0m             \u001b[0mpayoffs\u001b[0m\u001b[1;33m.\u001b[0m\u001b[0mat\u001b[0m\u001b[1;33m[\u001b[0m\u001b[0mstrategy_labels\u001b[0m\u001b[1;33m[\u001b[0m\u001b[0mj\u001b[0m\u001b[1;33m]\u001b[0m\u001b[1;33m,\u001b[0m \u001b[1;34m\"Sum\"\u001b[0m\u001b[1;33m]\u001b[0m \u001b[1;33m=\u001b[0m \u001b[0msum\u001b[0m\u001b[1;33m(\u001b[0m\u001b[0ml\u001b[0m\u001b[1;33m[\u001b[0m\u001b[1;36m0\u001b[0m\u001b[1;33m]\u001b[0m\u001b[1;33m)\u001b[0m\u001b[1;33m\u001b[0m\u001b[1;33m\u001b[0m\u001b[0m\n\u001b[0;32m     26\u001b[0m         \u001b[1;32mexcept\u001b[0m\u001b[1;33m:\u001b[0m\u001b[1;33m\u001b[0m\u001b[1;33m\u001b[0m\u001b[0m\n\u001b[1;32m---> 27\u001b[1;33m             \u001b[1;32mif\u001b[0m \u001b[0msum\u001b[0m\u001b[1;33m(\u001b[0m\u001b[0mlist\u001b[0m\u001b[1;33m(\u001b[0m\u001b[0mpayoffs\u001b[0m\u001b[1;33m.\u001b[0m\u001b[0mat\u001b[0m\u001b[1;33m[\u001b[0m\u001b[0mstrategy_labels\u001b[0m\u001b[1;33m[\u001b[0m\u001b[0mj\u001b[0m\u001b[1;33m]\u001b[0m \u001b[1;33m,\u001b[0m\u001b[1;34m\"Sum\"\u001b[0m\u001b[1;33m]\u001b[0m\u001b[1;33m)\u001b[0m\u001b[1;33m)\u001b[0m \u001b[1;33m<\u001b[0m \u001b[1;36m300\u001b[0m\u001b[1;33m:\u001b[0m\u001b[1;33m\u001b[0m\u001b[1;33m\u001b[0m\u001b[0m\n\u001b[0m\u001b[0;32m     28\u001b[0m                 \u001b[0mpayoffs\u001b[0m\u001b[1;33m.\u001b[0m\u001b[0mat\u001b[0m\u001b[1;33m[\u001b[0m\u001b[0mstrategy_labels\u001b[0m\u001b[1;33m[\u001b[0m\u001b[0mj\u001b[0m\u001b[1;33m]\u001b[0m\u001b[1;33m,\u001b[0m \u001b[1;34m\"Sum\"\u001b[0m\u001b[1;33m]\u001b[0m \u001b[1;33m=\u001b[0m \u001b[0msum\u001b[0m\u001b[1;33m(\u001b[0m\u001b[0mlist\u001b[0m\u001b[1;33m(\u001b[0m\u001b[0mpayoffs\u001b[0m\u001b[1;33m.\u001b[0m\u001b[0mat\u001b[0m\u001b[1;33m[\u001b[0m\u001b[0mstrategy_labels\u001b[0m\u001b[1;33m[\u001b[0m\u001b[0mj\u001b[0m\u001b[1;33m]\u001b[0m \u001b[1;33m,\u001b[0m\u001b[1;34m\"Sum\"\u001b[0m\u001b[1;33m]\u001b[0m\u001b[1;33m)\u001b[0m\u001b[1;33m)\u001b[0m\u001b[1;33m\u001b[0m\u001b[1;33m\u001b[0m\u001b[0m\n\u001b[0;32m     29\u001b[0m                 \u001b[0mprint\u001b[0m\u001b[1;33m(\u001b[0m\u001b[0mpayoffs\u001b[0m\u001b[1;33m)\u001b[0m\u001b[1;33m\u001b[0m\u001b[1;33m\u001b[0m\u001b[0m\n",
      "\u001b[1;32mD:\\Programmi\\anaconda3\\lib\\site-packages\\pandas\\core\\indexing.py\u001b[0m in \u001b[0;36m__getitem__\u001b[1;34m(self, key)\u001b[0m\n\u001b[0;32m   2177\u001b[0m \u001b[1;33m\u001b[0m\u001b[0m\n\u001b[0;32m   2178\u001b[0m         \u001b[0mkey\u001b[0m \u001b[1;33m=\u001b[0m \u001b[0mself\u001b[0m\u001b[1;33m.\u001b[0m\u001b[0m_convert_key\u001b[0m\u001b[1;33m(\u001b[0m\u001b[0mkey\u001b[0m\u001b[1;33m)\u001b[0m\u001b[1;33m\u001b[0m\u001b[1;33m\u001b[0m\u001b[0m\n\u001b[1;32m-> 2179\u001b[1;33m         \u001b[1;32mreturn\u001b[0m \u001b[0mself\u001b[0m\u001b[1;33m.\u001b[0m\u001b[0mobj\u001b[0m\u001b[1;33m.\u001b[0m\u001b[0m_get_value\u001b[0m\u001b[1;33m(\u001b[0m\u001b[1;33m*\u001b[0m\u001b[0mkey\u001b[0m\u001b[1;33m,\u001b[0m \u001b[0mtakeable\u001b[0m\u001b[1;33m=\u001b[0m\u001b[0mself\u001b[0m\u001b[1;33m.\u001b[0m\u001b[0m_takeable\u001b[0m\u001b[1;33m)\u001b[0m\u001b[1;33m\u001b[0m\u001b[1;33m\u001b[0m\u001b[0m\n\u001b[0m\u001b[0;32m   2180\u001b[0m \u001b[1;33m\u001b[0m\u001b[0m\n\u001b[0;32m   2181\u001b[0m     \u001b[1;32mdef\u001b[0m \u001b[0m__setitem__\u001b[0m\u001b[1;33m(\u001b[0m\u001b[0mself\u001b[0m\u001b[1;33m,\u001b[0m \u001b[0mkey\u001b[0m\u001b[1;33m,\u001b[0m \u001b[0mvalue\u001b[0m\u001b[1;33m)\u001b[0m\u001b[1;33m:\u001b[0m\u001b[1;33m\u001b[0m\u001b[1;33m\u001b[0m\u001b[0m\n",
      "\u001b[1;32mD:\\Programmi\\anaconda3\\lib\\site-packages\\pandas\\core\\frame.py\u001b[0m in \u001b[0;36m_get_value\u001b[1;34m(self, index, col, takeable)\u001b[0m\n\u001b[0;32m   2901\u001b[0m             \u001b[1;32mreturn\u001b[0m \u001b[0mcom\u001b[0m\u001b[1;33m.\u001b[0m\u001b[0mmaybe_box_datetimelike\u001b[0m\u001b[1;33m(\u001b[0m\u001b[0mseries\u001b[0m\u001b[1;33m.\u001b[0m\u001b[0m_values\u001b[0m\u001b[1;33m[\u001b[0m\u001b[0mindex\u001b[0m\u001b[1;33m]\u001b[0m\u001b[1;33m)\u001b[0m\u001b[1;33m\u001b[0m\u001b[1;33m\u001b[0m\u001b[0m\n\u001b[0;32m   2902\u001b[0m \u001b[1;33m\u001b[0m\u001b[0m\n\u001b[1;32m-> 2903\u001b[1;33m         \u001b[0mseries\u001b[0m \u001b[1;33m=\u001b[0m \u001b[0mself\u001b[0m\u001b[1;33m.\u001b[0m\u001b[0m_get_item_cache\u001b[0m\u001b[1;33m(\u001b[0m\u001b[0mcol\u001b[0m\u001b[1;33m)\u001b[0m\u001b[1;33m\u001b[0m\u001b[1;33m\u001b[0m\u001b[0m\n\u001b[0m\u001b[0;32m   2904\u001b[0m         \u001b[0mengine\u001b[0m \u001b[1;33m=\u001b[0m \u001b[0mself\u001b[0m\u001b[1;33m.\u001b[0m\u001b[0mindex\u001b[0m\u001b[1;33m.\u001b[0m\u001b[0m_engine\u001b[0m\u001b[1;33m\u001b[0m\u001b[1;33m\u001b[0m\u001b[0m\n\u001b[0;32m   2905\u001b[0m \u001b[1;33m\u001b[0m\u001b[0m\n",
      "\u001b[1;32mD:\\Programmi\\anaconda3\\lib\\site-packages\\pandas\\core\\generic.py\u001b[0m in \u001b[0;36m_get_item_cache\u001b[1;34m(self, item)\u001b[0m\n\u001b[0;32m   3585\u001b[0m         \u001b[1;32mif\u001b[0m \u001b[0mres\u001b[0m \u001b[1;32mis\u001b[0m \u001b[1;32mNone\u001b[0m\u001b[1;33m:\u001b[0m\u001b[1;33m\u001b[0m\u001b[1;33m\u001b[0m\u001b[0m\n\u001b[0;32m   3586\u001b[0m             \u001b[0mvalues\u001b[0m \u001b[1;33m=\u001b[0m \u001b[0mself\u001b[0m\u001b[1;33m.\u001b[0m\u001b[0m_data\u001b[0m\u001b[1;33m.\u001b[0m\u001b[0mget\u001b[0m\u001b[1;33m(\u001b[0m\u001b[0mitem\u001b[0m\u001b[1;33m)\u001b[0m\u001b[1;33m\u001b[0m\u001b[1;33m\u001b[0m\u001b[0m\n\u001b[1;32m-> 3587\u001b[1;33m             \u001b[0mres\u001b[0m \u001b[1;33m=\u001b[0m \u001b[0mself\u001b[0m\u001b[1;33m.\u001b[0m\u001b[0m_box_item_values\u001b[0m\u001b[1;33m(\u001b[0m\u001b[0mitem\u001b[0m\u001b[1;33m,\u001b[0m \u001b[0mvalues\u001b[0m\u001b[1;33m)\u001b[0m\u001b[1;33m\u001b[0m\u001b[1;33m\u001b[0m\u001b[0m\n\u001b[0m\u001b[0;32m   3588\u001b[0m             \u001b[0mcache\u001b[0m\u001b[1;33m[\u001b[0m\u001b[0mitem\u001b[0m\u001b[1;33m]\u001b[0m \u001b[1;33m=\u001b[0m \u001b[0mres\u001b[0m\u001b[1;33m\u001b[0m\u001b[1;33m\u001b[0m\u001b[0m\n\u001b[0;32m   3589\u001b[0m             \u001b[0mres\u001b[0m\u001b[1;33m.\u001b[0m\u001b[0m_set_as_cached\u001b[0m\u001b[1;33m(\u001b[0m\u001b[0mitem\u001b[0m\u001b[1;33m,\u001b[0m \u001b[0mself\u001b[0m\u001b[1;33m)\u001b[0m\u001b[1;33m\u001b[0m\u001b[1;33m\u001b[0m\u001b[0m\n",
      "\u001b[1;32mD:\\Programmi\\anaconda3\\lib\\site-packages\\pandas\\core\\frame.py\u001b[0m in \u001b[0;36m_box_item_values\u001b[1;34m(self, key, values)\u001b[0m\n\u001b[0;32m   3067\u001b[0m         \u001b[0mitems\u001b[0m \u001b[1;33m=\u001b[0m \u001b[0mself\u001b[0m\u001b[1;33m.\u001b[0m\u001b[0mcolumns\u001b[0m\u001b[1;33m[\u001b[0m\u001b[0mself\u001b[0m\u001b[1;33m.\u001b[0m\u001b[0mcolumns\u001b[0m\u001b[1;33m.\u001b[0m\u001b[0mget_loc\u001b[0m\u001b[1;33m(\u001b[0m\u001b[0mkey\u001b[0m\u001b[1;33m)\u001b[0m\u001b[1;33m]\u001b[0m\u001b[1;33m\u001b[0m\u001b[1;33m\u001b[0m\u001b[0m\n\u001b[0;32m   3068\u001b[0m         \u001b[1;32mif\u001b[0m \u001b[0mvalues\u001b[0m\u001b[1;33m.\u001b[0m\u001b[0mndim\u001b[0m \u001b[1;33m==\u001b[0m \u001b[1;36m2\u001b[0m\u001b[1;33m:\u001b[0m\u001b[1;33m\u001b[0m\u001b[1;33m\u001b[0m\u001b[0m\n\u001b[1;32m-> 3069\u001b[1;33m             \u001b[1;32mreturn\u001b[0m \u001b[0mself\u001b[0m\u001b[1;33m.\u001b[0m\u001b[0m_constructor\u001b[0m\u001b[1;33m(\u001b[0m\u001b[0mvalues\u001b[0m\u001b[1;33m.\u001b[0m\u001b[0mT\u001b[0m\u001b[1;33m,\u001b[0m \u001b[0mcolumns\u001b[0m\u001b[1;33m=\u001b[0m\u001b[0mitems\u001b[0m\u001b[1;33m,\u001b[0m \u001b[0mindex\u001b[0m\u001b[1;33m=\u001b[0m\u001b[0mself\u001b[0m\u001b[1;33m.\u001b[0m\u001b[0mindex\u001b[0m\u001b[1;33m)\u001b[0m\u001b[1;33m\u001b[0m\u001b[1;33m\u001b[0m\u001b[0m\n\u001b[0m\u001b[0;32m   3070\u001b[0m         \u001b[1;32melse\u001b[0m\u001b[1;33m:\u001b[0m\u001b[1;33m\u001b[0m\u001b[1;33m\u001b[0m\u001b[0m\n\u001b[0;32m   3071\u001b[0m             \u001b[1;32mreturn\u001b[0m \u001b[0mself\u001b[0m\u001b[1;33m.\u001b[0m\u001b[0m_box_col_values\u001b[0m\u001b[1;33m(\u001b[0m\u001b[0mvalues\u001b[0m\u001b[1;33m,\u001b[0m \u001b[0mitems\u001b[0m\u001b[1;33m)\u001b[0m\u001b[1;33m\u001b[0m\u001b[1;33m\u001b[0m\u001b[0m\n",
      "\u001b[1;31mAttributeError\u001b[0m: 'BlockManager' object has no attribute 'T'"
     ]
    }
   ],
   "source": [
    "strat_dict = {\n",
    "    'nice_guy' : nice_guy,\n",
    "    'bad_guy' : bad_guy,\n",
    "    'mainly_nice_mixed' : mainly_nice_mixed,\n",
    "    'mainly_bad_mixed' : mainly_bad_mixed,\n",
    "    'tit_for_tat' : tit_for_tat,\n",
    "    'nash_equilibrium' : nash_equilibrium\n",
    "}\n",
    "strategies = [nice_guy, bad_guy, mainly_nice_mixed, mainly_bad_mixed, tit_for_tat, nash_equilibrium]\n",
    "strategy_labels =['Nice Guy','Bad Guy','Mainly Nice Mixed', 'Mainly Bad Mixed', 'Tit for Tat', 'Nash equilibrium']\n",
    "\n",
    "size = len(strategies)\n",
    "best = 0.0\n",
    "propagated = 0\n",
    "cont = 0\n",
    "\n",
    "for i in range(0, size+1):\n",
    "    payoffs, winners = round_robin(strategies, strategy_labels, n, verbose=False)\n",
    "    #We calculate the total payoff of each strategie, to decide which one will propagate\n",
    "    sum_up = np.empty(len(strategies), dtype=float)\n",
    "    payoffs[\"Sum\"] = payoffs.sum(axis=1)\n",
    "    for j in range(0, len(payoffs[\"Sum\"])):\n",
    "        try:\n",
    "            l = list(payoffs.at[strategy_labels[j] ,\"Sum\"])\n",
    "            payoffs.at[strategy_labels[j], \"Sum\"] = sum(l[0])\n",
    "        except:\n",
    "            if sum(list(payoffs.at[strategy_labels[j] ,\"Sum\"])) < 300:\n",
    "                payoffs.at[strategy_labels[j], \"Sum\"] = sum(list(payoffs.at[strategy_labels[j] ,\"Sum\"]))\n",
    "                print(payoffs)\n",
    "    #We compare the results of each strategy and select the strategy with the most impact on the population\n",
    "    for t in enumerate(list(payoffs[\"Sum\"])):\n",
    "        if t[1] > best:\n",
    "            best = t[1]\n",
    "            row = payoffs.iloc[t[0]]\n",
    "    #This propagates in a random manner\n",
    "    while (propagated == 0):\n",
    "        prop = random.randint(0, len(strategies)-1)\n",
    "        prop_strat = row.name.replace(\" \", \"_\").lower()\n",
    "        func = strat_dict[prop_strat]\n",
    "        if (func != strategies[prop]):\n",
    "            strategies[prop] = func\n",
    "            strategy_labels[prop] = row.name\n",
    "            propagated = 1\n",
    "        if cont > len(strategies):\n",
    "            propagated = 1\n",
    "        cont += 1\n",
    "    propagated = 0\n",
    "    cont = 0\n",
    "display(payoffs)\n",
    "display(winners)"
   ]
  },
  {
   "cell_type": "markdown",
   "metadata": {},
   "source": [
    "## Implementation without random propagation"
   ]
  },
  {
   "cell_type": "code",
   "execution_count": 23,
   "metadata": {},
   "outputs": [
    {
     "name": "stdout",
     "output_type": "stream",
     "text": [
      "                       Nice Guy      Bad Guy Mainly Nice Mixed  \\\n",
      "Nice Guy               (20, 20)      (0, 30)      (15.0, 22.5)   \n",
      "Bad Guy                 (30, 0)     (10, 10)       (25.0, 2.5)   \n",
      "Mainly Nice Mixed  (22.5, 15.0)  (2.5, 25.0)      (17.5, 17.5)   \n",
      "Mainly Bad Mixed    (27.5, 5.0)  (7.5, 15.0)       (22.5, 7.5)   \n",
      "Tit for Tat            (20, 20)      (9, 12)     (17.25, 18.0)   \n",
      "Nash equilibrium       (21, 18)      (1, 28)      (16.0, 20.5)   \n",
      "\n",
      "                  Mainly Bad Mixed    Tit for Tat Nash equilibrium  \\\n",
      "Nice Guy               (5.0, 27.5)       (20, 20)         (18, 21)   \n",
      "Bad Guy                (15.0, 7.5)        (12, 9)          (28, 1)   \n",
      "Mainly Nice Mixed      (7.5, 22.5)  (18.0, 17.25)     (20.5, 16.0)   \n",
      "Mainly Bad Mixed      (12.5, 12.5)  (14.0, 11.75)      (25.5, 6.0)   \n",
      "Tit for Tat          (11.75, 14.0)       (20, 20)         (18, 21)   \n",
      "Nash equilibrium       (6.0, 25.5)       (21, 18)         (19, 19)   \n",
      "\n",
      "                                                                 Sum  \n",
      "Nice Guy                                                         219  \n",
      "Bad Guy            (30, 0, 10, 10, 25.0, 2.5, 15.0, 7.5, 12, 9, 2...  \n",
      "Mainly Nice Mixed  (22.5, 15.0, 2.5, 25.0, 17.5, 17.5, 7.5, 22.5,...  \n",
      "Mainly Bad Mixed   (27.5, 5.0, 7.5, 15.0, 22.5, 7.5, 12.5, 12.5, ...  \n",
      "Tit for Tat        (20, 20, 9, 12, 17.25, 18.0, 11.75, 14.0, 20, ...  \n",
      "Nash equilibrium   (21, 18, 1, 28, 16.0, 20.5, 6.0, 25.5, 21, 18,...  \n",
      "                       Nice Guy      Bad Guy Mainly Nice Mixed  \\\n",
      "Nice Guy               (20, 20)      (0, 30)      (15.0, 22.5)   \n",
      "Bad Guy                 (30, 0)     (10, 10)       (25.0, 2.5)   \n",
      "Mainly Nice Mixed  (22.5, 15.0)  (2.5, 25.0)      (17.5, 17.5)   \n",
      "Mainly Bad Mixed    (27.5, 5.0)  (7.5, 15.0)       (22.5, 7.5)   \n",
      "Tit for Tat            (20, 20)      (9, 12)     (17.25, 18.0)   \n",
      "Nash equilibrium       (21, 18)      (1, 28)      (16.0, 20.5)   \n",
      "\n",
      "                  Mainly Bad Mixed    Tit for Tat Nash equilibrium  \\\n",
      "Nice Guy               (5.0, 27.5)       (20, 20)         (18, 21)   \n",
      "Bad Guy                (15.0, 7.5)        (12, 9)          (28, 1)   \n",
      "Mainly Nice Mixed      (7.5, 22.5)  (18.0, 17.25)     (20.5, 16.0)   \n",
      "Mainly Bad Mixed      (12.5, 12.5)  (14.0, 11.75)      (25.5, 6.0)   \n",
      "Tit for Tat          (11.75, 14.0)       (20, 20)         (18, 21)   \n",
      "Nash equilibrium       (6.0, 25.5)       (21, 18)         (19, 19)   \n",
      "\n",
      "                                                                 Sum  \n",
      "Nice Guy                                                         219  \n",
      "Bad Guy                                                          150  \n",
      "Mainly Nice Mixed  (22.5, 15.0, 2.5, 25.0, 17.5, 17.5, 7.5, 22.5,...  \n",
      "Mainly Bad Mixed   (27.5, 5.0, 7.5, 15.0, 22.5, 7.5, 12.5, 12.5, ...  \n",
      "Tit for Tat        (20, 20, 9, 12, 17.25, 18.0, 11.75, 14.0, 20, ...  \n",
      "Nash equilibrium   (21, 18, 1, 28, 16.0, 20.5, 6.0, 25.5, 21, 18,...  \n",
      "                       Nice Guy      Bad Guy Mainly Nice Mixed  \\\n",
      "Nice Guy               (20, 20)      (0, 30)      (15.0, 22.5)   \n",
      "Bad Guy                 (30, 0)     (10, 10)       (25.0, 2.5)   \n",
      "Mainly Nice Mixed  (22.5, 15.0)  (2.5, 25.0)      (17.5, 17.5)   \n",
      "Mainly Bad Mixed    (27.5, 5.0)  (7.5, 15.0)       (22.5, 7.5)   \n",
      "Tit for Tat            (20, 20)      (9, 12)     (17.25, 18.0)   \n",
      "Nash equilibrium       (21, 18)      (1, 28)      (16.0, 20.5)   \n",
      "\n",
      "                  Mainly Bad Mixed    Tit for Tat Nash equilibrium  \\\n",
      "Nice Guy               (5.0, 27.5)       (20, 20)         (18, 21)   \n",
      "Bad Guy                (15.0, 7.5)        (12, 9)          (28, 1)   \n",
      "Mainly Nice Mixed      (7.5, 22.5)  (18.0, 17.25)     (20.5, 16.0)   \n",
      "Mainly Bad Mixed      (12.5, 12.5)  (14.0, 11.75)      (25.5, 6.0)   \n",
      "Tit for Tat          (11.75, 14.0)       (20, 20)         (18, 21)   \n",
      "Nash equilibrium       (6.0, 25.5)       (21, 18)         (19, 19)   \n",
      "\n",
      "                                                                 Sum  \n",
      "Nice Guy                                                         219  \n",
      "Bad Guy                                                          150  \n",
      "Mainly Nice Mixed                                             201.75  \n",
      "Mainly Bad Mixed   (27.5, 5.0, 7.5, 15.0, 22.5, 7.5, 12.5, 12.5, ...  \n",
      "Tit for Tat        (20, 20, 9, 12, 17.25, 18.0, 11.75, 14.0, 20, ...  \n",
      "Nash equilibrium   (21, 18, 1, 28, 16.0, 20.5, 6.0, 25.5, 21, 18,...  \n",
      "                       Nice Guy      Bad Guy Mainly Nice Mixed  \\\n",
      "Nice Guy               (20, 20)      (0, 30)      (15.0, 22.5)   \n",
      "Bad Guy                 (30, 0)     (10, 10)       (25.0, 2.5)   \n",
      "Mainly Nice Mixed  (22.5, 15.0)  (2.5, 25.0)      (17.5, 17.5)   \n",
      "Mainly Bad Mixed    (27.5, 5.0)  (7.5, 15.0)       (22.5, 7.5)   \n",
      "Tit for Tat            (20, 20)      (9, 12)     (17.25, 18.0)   \n",
      "Nash equilibrium       (21, 18)      (1, 28)      (16.0, 20.5)   \n",
      "\n",
      "                  Mainly Bad Mixed    Tit for Tat Nash equilibrium  \\\n",
      "Nice Guy               (5.0, 27.5)       (20, 20)         (18, 21)   \n",
      "Bad Guy                (15.0, 7.5)        (12, 9)          (28, 1)   \n",
      "Mainly Nice Mixed      (7.5, 22.5)  (18.0, 17.25)     (20.5, 16.0)   \n",
      "Mainly Bad Mixed      (12.5, 12.5)  (14.0, 11.75)      (25.5, 6.0)   \n",
      "Tit for Tat          (11.75, 14.0)       (20, 20)         (18, 21)   \n",
      "Nash equilibrium       (6.0, 25.5)       (21, 18)         (19, 19)   \n",
      "\n",
      "                                                                 Sum  \n",
      "Nice Guy                                                         219  \n",
      "Bad Guy                                                          150  \n",
      "Mainly Nice Mixed                                             201.75  \n",
      "Mainly Bad Mixed                                              167.25  \n",
      "Tit for Tat        (20, 20, 9, 12, 17.25, 18.0, 11.75, 14.0, 20, ...  \n",
      "Nash equilibrium   (21, 18, 1, 28, 16.0, 20.5, 6.0, 25.5, 21, 18,...  \n",
      "                       Nice Guy      Bad Guy Mainly Nice Mixed  \\\n",
      "Nice Guy               (20, 20)      (0, 30)      (15.0, 22.5)   \n",
      "Bad Guy                 (30, 0)     (10, 10)       (25.0, 2.5)   \n",
      "Mainly Nice Mixed  (22.5, 15.0)  (2.5, 25.0)      (17.5, 17.5)   \n",
      "Mainly Bad Mixed    (27.5, 5.0)  (7.5, 15.0)       (22.5, 7.5)   \n",
      "Tit for Tat            (20, 20)      (9, 12)     (17.25, 18.0)   \n",
      "Nash equilibrium       (21, 18)      (1, 28)      (16.0, 20.5)   \n",
      "\n",
      "                  Mainly Bad Mixed    Tit for Tat Nash equilibrium  \\\n",
      "Nice Guy               (5.0, 27.5)       (20, 20)         (18, 21)   \n",
      "Bad Guy                (15.0, 7.5)        (12, 9)          (28, 1)   \n",
      "Mainly Nice Mixed      (7.5, 22.5)  (18.0, 17.25)     (20.5, 16.0)   \n",
      "Mainly Bad Mixed      (12.5, 12.5)  (14.0, 11.75)      (25.5, 6.0)   \n",
      "Tit for Tat          (11.75, 14.0)       (20, 20)         (18, 21)   \n",
      "Nash equilibrium       (6.0, 25.5)       (21, 18)         (19, 19)   \n",
      "\n",
      "                                                                 Sum  \n",
      "Nice Guy                                                         219  \n",
      "Bad Guy                                                          150  \n",
      "Mainly Nice Mixed                                             201.75  \n",
      "Mainly Bad Mixed                                              167.25  \n",
      "Tit for Tat                                                      201  \n",
      "Nash equilibrium   (21, 18, 1, 28, 16.0, 20.5, 6.0, 25.5, 21, 18,...  \n",
      "                       Nice Guy      Bad Guy Mainly Nice Mixed  \\\n",
      "Nice Guy               (20, 20)      (0, 30)      (15.0, 22.5)   \n",
      "Bad Guy                 (30, 0)     (10, 10)       (25.0, 2.5)   \n",
      "Mainly Nice Mixed  (22.5, 15.0)  (2.5, 25.0)      (17.5, 17.5)   \n",
      "Mainly Bad Mixed    (27.5, 5.0)  (7.5, 15.0)       (22.5, 7.5)   \n",
      "Tit for Tat            (20, 20)      (9, 12)     (17.25, 18.0)   \n",
      "Nash equilibrium       (21, 18)      (1, 28)      (16.0, 20.5)   \n",
      "\n",
      "                  Mainly Bad Mixed    Tit for Tat Nash equilibrium     Sum  \n",
      "Nice Guy               (5.0, 27.5)       (20, 20)         (18, 21)     219  \n",
      "Bad Guy                (15.0, 7.5)        (12, 9)          (28, 1)     150  \n",
      "Mainly Nice Mixed      (7.5, 22.5)  (18.0, 17.25)     (20.5, 16.0)  201.75  \n",
      "Mainly Bad Mixed      (12.5, 12.5)  (14.0, 11.75)      (25.5, 6.0)  167.25  \n",
      "Tit for Tat          (11.75, 14.0)       (20, 20)         (18, 21)     201  \n",
      "Nash equilibrium       (6.0, 25.5)       (21, 18)         (19, 19)     213  \n"
     ]
    },
    {
     "ename": "AttributeError",
     "evalue": "'BlockManager' object has no attribute 'T'",
     "output_type": "error",
     "traceback": [
      "\u001b[1;31m---------------------------------------------------------------------------\u001b[0m",
      "\u001b[1;31mAttributeError\u001b[0m                            Traceback (most recent call last)",
      "\u001b[1;32m<ipython-input-23-13f179bb7ec3>\u001b[0m in \u001b[0;36m<module>\u001b[1;34m\u001b[0m\n\u001b[0;32m     23\u001b[0m         \u001b[1;32mtry\u001b[0m\u001b[1;33m:\u001b[0m\u001b[1;33m\u001b[0m\u001b[1;33m\u001b[0m\u001b[0m\n\u001b[1;32m---> 24\u001b[1;33m             \u001b[0ml\u001b[0m \u001b[1;33m=\u001b[0m \u001b[0mlist\u001b[0m\u001b[1;33m(\u001b[0m\u001b[0mpayoffs\u001b[0m\u001b[1;33m.\u001b[0m\u001b[0mat\u001b[0m\u001b[1;33m[\u001b[0m\u001b[0mstrategy_labels\u001b[0m\u001b[1;33m[\u001b[0m\u001b[0mj\u001b[0m\u001b[1;33m]\u001b[0m \u001b[1;33m,\u001b[0m\u001b[1;34m\"Sum\"\u001b[0m\u001b[1;33m]\u001b[0m\u001b[1;33m)\u001b[0m\u001b[1;33m\u001b[0m\u001b[1;33m\u001b[0m\u001b[0m\n\u001b[0m\u001b[0;32m     25\u001b[0m             \u001b[0mpayoffs\u001b[0m\u001b[1;33m.\u001b[0m\u001b[0mat\u001b[0m\u001b[1;33m[\u001b[0m\u001b[0mstrategy_labels\u001b[0m\u001b[1;33m[\u001b[0m\u001b[0mj\u001b[0m\u001b[1;33m]\u001b[0m\u001b[1;33m,\u001b[0m \u001b[1;34m\"Sum\"\u001b[0m\u001b[1;33m]\u001b[0m \u001b[1;33m=\u001b[0m \u001b[0msum\u001b[0m\u001b[1;33m(\u001b[0m\u001b[0ml\u001b[0m\u001b[1;33m[\u001b[0m\u001b[1;36m0\u001b[0m\u001b[1;33m]\u001b[0m\u001b[1;33m)\u001b[0m\u001b[1;33m\u001b[0m\u001b[1;33m\u001b[0m\u001b[0m\n",
      "\u001b[1;32mD:\\Programmi\\anaconda3\\lib\\site-packages\\pandas\\core\\indexing.py\u001b[0m in \u001b[0;36m__getitem__\u001b[1;34m(self, key)\u001b[0m\n\u001b[0;32m   2178\u001b[0m         \u001b[0mkey\u001b[0m \u001b[1;33m=\u001b[0m \u001b[0mself\u001b[0m\u001b[1;33m.\u001b[0m\u001b[0m_convert_key\u001b[0m\u001b[1;33m(\u001b[0m\u001b[0mkey\u001b[0m\u001b[1;33m)\u001b[0m\u001b[1;33m\u001b[0m\u001b[1;33m\u001b[0m\u001b[0m\n\u001b[1;32m-> 2179\u001b[1;33m         \u001b[1;32mreturn\u001b[0m \u001b[0mself\u001b[0m\u001b[1;33m.\u001b[0m\u001b[0mobj\u001b[0m\u001b[1;33m.\u001b[0m\u001b[0m_get_value\u001b[0m\u001b[1;33m(\u001b[0m\u001b[1;33m*\u001b[0m\u001b[0mkey\u001b[0m\u001b[1;33m,\u001b[0m \u001b[0mtakeable\u001b[0m\u001b[1;33m=\u001b[0m\u001b[0mself\u001b[0m\u001b[1;33m.\u001b[0m\u001b[0m_takeable\u001b[0m\u001b[1;33m)\u001b[0m\u001b[1;33m\u001b[0m\u001b[1;33m\u001b[0m\u001b[0m\n\u001b[0m\u001b[0;32m   2180\u001b[0m \u001b[1;33m\u001b[0m\u001b[0m\n",
      "\u001b[1;32mD:\\Programmi\\anaconda3\\lib\\site-packages\\pandas\\core\\frame.py\u001b[0m in \u001b[0;36m_get_value\u001b[1;34m(self, index, col, takeable)\u001b[0m\n\u001b[0;32m   2902\u001b[0m \u001b[1;33m\u001b[0m\u001b[0m\n\u001b[1;32m-> 2903\u001b[1;33m         \u001b[0mseries\u001b[0m \u001b[1;33m=\u001b[0m \u001b[0mself\u001b[0m\u001b[1;33m.\u001b[0m\u001b[0m_get_item_cache\u001b[0m\u001b[1;33m(\u001b[0m\u001b[0mcol\u001b[0m\u001b[1;33m)\u001b[0m\u001b[1;33m\u001b[0m\u001b[1;33m\u001b[0m\u001b[0m\n\u001b[0m\u001b[0;32m   2904\u001b[0m         \u001b[0mengine\u001b[0m \u001b[1;33m=\u001b[0m \u001b[0mself\u001b[0m\u001b[1;33m.\u001b[0m\u001b[0mindex\u001b[0m\u001b[1;33m.\u001b[0m\u001b[0m_engine\u001b[0m\u001b[1;33m\u001b[0m\u001b[1;33m\u001b[0m\u001b[0m\n",
      "\u001b[1;32mD:\\Programmi\\anaconda3\\lib\\site-packages\\pandas\\core\\generic.py\u001b[0m in \u001b[0;36m_get_item_cache\u001b[1;34m(self, item)\u001b[0m\n\u001b[0;32m   3586\u001b[0m             \u001b[0mvalues\u001b[0m \u001b[1;33m=\u001b[0m \u001b[0mself\u001b[0m\u001b[1;33m.\u001b[0m\u001b[0m_data\u001b[0m\u001b[1;33m.\u001b[0m\u001b[0mget\u001b[0m\u001b[1;33m(\u001b[0m\u001b[0mitem\u001b[0m\u001b[1;33m)\u001b[0m\u001b[1;33m\u001b[0m\u001b[1;33m\u001b[0m\u001b[0m\n\u001b[1;32m-> 3587\u001b[1;33m             \u001b[0mres\u001b[0m \u001b[1;33m=\u001b[0m \u001b[0mself\u001b[0m\u001b[1;33m.\u001b[0m\u001b[0m_box_item_values\u001b[0m\u001b[1;33m(\u001b[0m\u001b[0mitem\u001b[0m\u001b[1;33m,\u001b[0m \u001b[0mvalues\u001b[0m\u001b[1;33m)\u001b[0m\u001b[1;33m\u001b[0m\u001b[1;33m\u001b[0m\u001b[0m\n\u001b[0m\u001b[0;32m   3588\u001b[0m             \u001b[0mcache\u001b[0m\u001b[1;33m[\u001b[0m\u001b[0mitem\u001b[0m\u001b[1;33m]\u001b[0m \u001b[1;33m=\u001b[0m \u001b[0mres\u001b[0m\u001b[1;33m\u001b[0m\u001b[1;33m\u001b[0m\u001b[0m\n",
      "\u001b[1;32mD:\\Programmi\\anaconda3\\lib\\site-packages\\pandas\\core\\frame.py\u001b[0m in \u001b[0;36m_box_item_values\u001b[1;34m(self, key, values)\u001b[0m\n\u001b[0;32m   3068\u001b[0m         \u001b[1;32mif\u001b[0m \u001b[0mvalues\u001b[0m\u001b[1;33m.\u001b[0m\u001b[0mndim\u001b[0m \u001b[1;33m==\u001b[0m \u001b[1;36m2\u001b[0m\u001b[1;33m:\u001b[0m\u001b[1;33m\u001b[0m\u001b[1;33m\u001b[0m\u001b[0m\n\u001b[1;32m-> 3069\u001b[1;33m             \u001b[1;32mreturn\u001b[0m \u001b[0mself\u001b[0m\u001b[1;33m.\u001b[0m\u001b[0m_constructor\u001b[0m\u001b[1;33m(\u001b[0m\u001b[0mvalues\u001b[0m\u001b[1;33m.\u001b[0m\u001b[0mT\u001b[0m\u001b[1;33m,\u001b[0m \u001b[0mcolumns\u001b[0m\u001b[1;33m=\u001b[0m\u001b[0mitems\u001b[0m\u001b[1;33m,\u001b[0m \u001b[0mindex\u001b[0m\u001b[1;33m=\u001b[0m\u001b[0mself\u001b[0m\u001b[1;33m.\u001b[0m\u001b[0mindex\u001b[0m\u001b[1;33m)\u001b[0m\u001b[1;33m\u001b[0m\u001b[1;33m\u001b[0m\u001b[0m\n\u001b[0m\u001b[0;32m   3070\u001b[0m         \u001b[1;32melse\u001b[0m\u001b[1;33m:\u001b[0m\u001b[1;33m\u001b[0m\u001b[1;33m\u001b[0m\u001b[0m\n",
      "\u001b[1;31mAttributeError\u001b[0m: 'BlockManager' object has no attribute 'T'",
      "\nDuring handling of the above exception, another exception occurred:\n",
      "\u001b[1;31mAttributeError\u001b[0m                            Traceback (most recent call last)",
      "\u001b[1;32m<ipython-input-23-13f179bb7ec3>\u001b[0m in \u001b[0;36m<module>\u001b[1;34m\u001b[0m\n\u001b[0;32m     25\u001b[0m             \u001b[0mpayoffs\u001b[0m\u001b[1;33m.\u001b[0m\u001b[0mat\u001b[0m\u001b[1;33m[\u001b[0m\u001b[0mstrategy_labels\u001b[0m\u001b[1;33m[\u001b[0m\u001b[0mj\u001b[0m\u001b[1;33m]\u001b[0m\u001b[1;33m,\u001b[0m \u001b[1;34m\"Sum\"\u001b[0m\u001b[1;33m]\u001b[0m \u001b[1;33m=\u001b[0m \u001b[0msum\u001b[0m\u001b[1;33m(\u001b[0m\u001b[0ml\u001b[0m\u001b[1;33m[\u001b[0m\u001b[1;36m0\u001b[0m\u001b[1;33m]\u001b[0m\u001b[1;33m)\u001b[0m\u001b[1;33m\u001b[0m\u001b[1;33m\u001b[0m\u001b[0m\n\u001b[0;32m     26\u001b[0m         \u001b[1;32mexcept\u001b[0m\u001b[1;33m:\u001b[0m\u001b[1;33m\u001b[0m\u001b[1;33m\u001b[0m\u001b[0m\n\u001b[1;32m---> 27\u001b[1;33m             \u001b[1;32mif\u001b[0m \u001b[0msum\u001b[0m\u001b[1;33m(\u001b[0m\u001b[0mlist\u001b[0m\u001b[1;33m(\u001b[0m\u001b[0mpayoffs\u001b[0m\u001b[1;33m.\u001b[0m\u001b[0mat\u001b[0m\u001b[1;33m[\u001b[0m\u001b[0mstrategy_labels\u001b[0m\u001b[1;33m[\u001b[0m\u001b[0mj\u001b[0m\u001b[1;33m]\u001b[0m \u001b[1;33m,\u001b[0m\u001b[1;34m\"Sum\"\u001b[0m\u001b[1;33m]\u001b[0m\u001b[1;33m)\u001b[0m\u001b[1;33m)\u001b[0m \u001b[1;33m<\u001b[0m \u001b[1;36m300\u001b[0m\u001b[1;33m:\u001b[0m\u001b[1;33m\u001b[0m\u001b[1;33m\u001b[0m\u001b[0m\n\u001b[0m\u001b[0;32m     28\u001b[0m                 \u001b[0mpayoffs\u001b[0m\u001b[1;33m.\u001b[0m\u001b[0mat\u001b[0m\u001b[1;33m[\u001b[0m\u001b[0mstrategy_labels\u001b[0m\u001b[1;33m[\u001b[0m\u001b[0mj\u001b[0m\u001b[1;33m]\u001b[0m\u001b[1;33m,\u001b[0m \u001b[1;34m\"Sum\"\u001b[0m\u001b[1;33m]\u001b[0m \u001b[1;33m=\u001b[0m \u001b[0msum\u001b[0m\u001b[1;33m(\u001b[0m\u001b[0mlist\u001b[0m\u001b[1;33m(\u001b[0m\u001b[0mpayoffs\u001b[0m\u001b[1;33m.\u001b[0m\u001b[0mat\u001b[0m\u001b[1;33m[\u001b[0m\u001b[0mstrategy_labels\u001b[0m\u001b[1;33m[\u001b[0m\u001b[0mj\u001b[0m\u001b[1;33m]\u001b[0m \u001b[1;33m,\u001b[0m\u001b[1;34m\"Sum\"\u001b[0m\u001b[1;33m]\u001b[0m\u001b[1;33m)\u001b[0m\u001b[1;33m)\u001b[0m\u001b[1;33m\u001b[0m\u001b[1;33m\u001b[0m\u001b[0m\n\u001b[0;32m     29\u001b[0m                 \u001b[0mprint\u001b[0m\u001b[1;33m(\u001b[0m\u001b[0mpayoffs\u001b[0m\u001b[1;33m)\u001b[0m\u001b[1;33m\u001b[0m\u001b[1;33m\u001b[0m\u001b[0m\n",
      "\u001b[1;32mD:\\Programmi\\anaconda3\\lib\\site-packages\\pandas\\core\\indexing.py\u001b[0m in \u001b[0;36m__getitem__\u001b[1;34m(self, key)\u001b[0m\n\u001b[0;32m   2177\u001b[0m \u001b[1;33m\u001b[0m\u001b[0m\n\u001b[0;32m   2178\u001b[0m         \u001b[0mkey\u001b[0m \u001b[1;33m=\u001b[0m \u001b[0mself\u001b[0m\u001b[1;33m.\u001b[0m\u001b[0m_convert_key\u001b[0m\u001b[1;33m(\u001b[0m\u001b[0mkey\u001b[0m\u001b[1;33m)\u001b[0m\u001b[1;33m\u001b[0m\u001b[1;33m\u001b[0m\u001b[0m\n\u001b[1;32m-> 2179\u001b[1;33m         \u001b[1;32mreturn\u001b[0m \u001b[0mself\u001b[0m\u001b[1;33m.\u001b[0m\u001b[0mobj\u001b[0m\u001b[1;33m.\u001b[0m\u001b[0m_get_value\u001b[0m\u001b[1;33m(\u001b[0m\u001b[1;33m*\u001b[0m\u001b[0mkey\u001b[0m\u001b[1;33m,\u001b[0m \u001b[0mtakeable\u001b[0m\u001b[1;33m=\u001b[0m\u001b[0mself\u001b[0m\u001b[1;33m.\u001b[0m\u001b[0m_takeable\u001b[0m\u001b[1;33m)\u001b[0m\u001b[1;33m\u001b[0m\u001b[1;33m\u001b[0m\u001b[0m\n\u001b[0m\u001b[0;32m   2180\u001b[0m \u001b[1;33m\u001b[0m\u001b[0m\n\u001b[0;32m   2181\u001b[0m     \u001b[1;32mdef\u001b[0m \u001b[0m__setitem__\u001b[0m\u001b[1;33m(\u001b[0m\u001b[0mself\u001b[0m\u001b[1;33m,\u001b[0m \u001b[0mkey\u001b[0m\u001b[1;33m,\u001b[0m \u001b[0mvalue\u001b[0m\u001b[1;33m)\u001b[0m\u001b[1;33m:\u001b[0m\u001b[1;33m\u001b[0m\u001b[1;33m\u001b[0m\u001b[0m\n",
      "\u001b[1;32mD:\\Programmi\\anaconda3\\lib\\site-packages\\pandas\\core\\frame.py\u001b[0m in \u001b[0;36m_get_value\u001b[1;34m(self, index, col, takeable)\u001b[0m\n\u001b[0;32m   2901\u001b[0m             \u001b[1;32mreturn\u001b[0m \u001b[0mcom\u001b[0m\u001b[1;33m.\u001b[0m\u001b[0mmaybe_box_datetimelike\u001b[0m\u001b[1;33m(\u001b[0m\u001b[0mseries\u001b[0m\u001b[1;33m.\u001b[0m\u001b[0m_values\u001b[0m\u001b[1;33m[\u001b[0m\u001b[0mindex\u001b[0m\u001b[1;33m]\u001b[0m\u001b[1;33m)\u001b[0m\u001b[1;33m\u001b[0m\u001b[1;33m\u001b[0m\u001b[0m\n\u001b[0;32m   2902\u001b[0m \u001b[1;33m\u001b[0m\u001b[0m\n\u001b[1;32m-> 2903\u001b[1;33m         \u001b[0mseries\u001b[0m \u001b[1;33m=\u001b[0m \u001b[0mself\u001b[0m\u001b[1;33m.\u001b[0m\u001b[0m_get_item_cache\u001b[0m\u001b[1;33m(\u001b[0m\u001b[0mcol\u001b[0m\u001b[1;33m)\u001b[0m\u001b[1;33m\u001b[0m\u001b[1;33m\u001b[0m\u001b[0m\n\u001b[0m\u001b[0;32m   2904\u001b[0m         \u001b[0mengine\u001b[0m \u001b[1;33m=\u001b[0m \u001b[0mself\u001b[0m\u001b[1;33m.\u001b[0m\u001b[0mindex\u001b[0m\u001b[1;33m.\u001b[0m\u001b[0m_engine\u001b[0m\u001b[1;33m\u001b[0m\u001b[1;33m\u001b[0m\u001b[0m\n\u001b[0;32m   2905\u001b[0m \u001b[1;33m\u001b[0m\u001b[0m\n",
      "\u001b[1;32mD:\\Programmi\\anaconda3\\lib\\site-packages\\pandas\\core\\generic.py\u001b[0m in \u001b[0;36m_get_item_cache\u001b[1;34m(self, item)\u001b[0m\n\u001b[0;32m   3585\u001b[0m         \u001b[1;32mif\u001b[0m \u001b[0mres\u001b[0m \u001b[1;32mis\u001b[0m \u001b[1;32mNone\u001b[0m\u001b[1;33m:\u001b[0m\u001b[1;33m\u001b[0m\u001b[1;33m\u001b[0m\u001b[0m\n\u001b[0;32m   3586\u001b[0m             \u001b[0mvalues\u001b[0m \u001b[1;33m=\u001b[0m \u001b[0mself\u001b[0m\u001b[1;33m.\u001b[0m\u001b[0m_data\u001b[0m\u001b[1;33m.\u001b[0m\u001b[0mget\u001b[0m\u001b[1;33m(\u001b[0m\u001b[0mitem\u001b[0m\u001b[1;33m)\u001b[0m\u001b[1;33m\u001b[0m\u001b[1;33m\u001b[0m\u001b[0m\n\u001b[1;32m-> 3587\u001b[1;33m             \u001b[0mres\u001b[0m \u001b[1;33m=\u001b[0m \u001b[0mself\u001b[0m\u001b[1;33m.\u001b[0m\u001b[0m_box_item_values\u001b[0m\u001b[1;33m(\u001b[0m\u001b[0mitem\u001b[0m\u001b[1;33m,\u001b[0m \u001b[0mvalues\u001b[0m\u001b[1;33m)\u001b[0m\u001b[1;33m\u001b[0m\u001b[1;33m\u001b[0m\u001b[0m\n\u001b[0m\u001b[0;32m   3588\u001b[0m             \u001b[0mcache\u001b[0m\u001b[1;33m[\u001b[0m\u001b[0mitem\u001b[0m\u001b[1;33m]\u001b[0m \u001b[1;33m=\u001b[0m \u001b[0mres\u001b[0m\u001b[1;33m\u001b[0m\u001b[1;33m\u001b[0m\u001b[0m\n\u001b[0;32m   3589\u001b[0m             \u001b[0mres\u001b[0m\u001b[1;33m.\u001b[0m\u001b[0m_set_as_cached\u001b[0m\u001b[1;33m(\u001b[0m\u001b[0mitem\u001b[0m\u001b[1;33m,\u001b[0m \u001b[0mself\u001b[0m\u001b[1;33m)\u001b[0m\u001b[1;33m\u001b[0m\u001b[1;33m\u001b[0m\u001b[0m\n",
      "\u001b[1;32mD:\\Programmi\\anaconda3\\lib\\site-packages\\pandas\\core\\frame.py\u001b[0m in \u001b[0;36m_box_item_values\u001b[1;34m(self, key, values)\u001b[0m\n\u001b[0;32m   3067\u001b[0m         \u001b[0mitems\u001b[0m \u001b[1;33m=\u001b[0m \u001b[0mself\u001b[0m\u001b[1;33m.\u001b[0m\u001b[0mcolumns\u001b[0m\u001b[1;33m[\u001b[0m\u001b[0mself\u001b[0m\u001b[1;33m.\u001b[0m\u001b[0mcolumns\u001b[0m\u001b[1;33m.\u001b[0m\u001b[0mget_loc\u001b[0m\u001b[1;33m(\u001b[0m\u001b[0mkey\u001b[0m\u001b[1;33m)\u001b[0m\u001b[1;33m]\u001b[0m\u001b[1;33m\u001b[0m\u001b[1;33m\u001b[0m\u001b[0m\n\u001b[0;32m   3068\u001b[0m         \u001b[1;32mif\u001b[0m \u001b[0mvalues\u001b[0m\u001b[1;33m.\u001b[0m\u001b[0mndim\u001b[0m \u001b[1;33m==\u001b[0m \u001b[1;36m2\u001b[0m\u001b[1;33m:\u001b[0m\u001b[1;33m\u001b[0m\u001b[1;33m\u001b[0m\u001b[0m\n\u001b[1;32m-> 3069\u001b[1;33m             \u001b[1;32mreturn\u001b[0m \u001b[0mself\u001b[0m\u001b[1;33m.\u001b[0m\u001b[0m_constructor\u001b[0m\u001b[1;33m(\u001b[0m\u001b[0mvalues\u001b[0m\u001b[1;33m.\u001b[0m\u001b[0mT\u001b[0m\u001b[1;33m,\u001b[0m \u001b[0mcolumns\u001b[0m\u001b[1;33m=\u001b[0m\u001b[0mitems\u001b[0m\u001b[1;33m,\u001b[0m \u001b[0mindex\u001b[0m\u001b[1;33m=\u001b[0m\u001b[0mself\u001b[0m\u001b[1;33m.\u001b[0m\u001b[0mindex\u001b[0m\u001b[1;33m)\u001b[0m\u001b[1;33m\u001b[0m\u001b[1;33m\u001b[0m\u001b[0m\n\u001b[0m\u001b[0;32m   3070\u001b[0m         \u001b[1;32melse\u001b[0m\u001b[1;33m:\u001b[0m\u001b[1;33m\u001b[0m\u001b[1;33m\u001b[0m\u001b[0m\n\u001b[0;32m   3071\u001b[0m             \u001b[1;32mreturn\u001b[0m \u001b[0mself\u001b[0m\u001b[1;33m.\u001b[0m\u001b[0m_box_col_values\u001b[0m\u001b[1;33m(\u001b[0m\u001b[0mvalues\u001b[0m\u001b[1;33m,\u001b[0m \u001b[0mitems\u001b[0m\u001b[1;33m)\u001b[0m\u001b[1;33m\u001b[0m\u001b[1;33m\u001b[0m\u001b[0m\n",
      "\u001b[1;31mAttributeError\u001b[0m: 'BlockManager' object has no attribute 'T'"
     ]
    }
   ],
   "source": [
    "strat_dict = {\n",
    "    'nice_guy' : nice_guy,\n",
    "    'bad_guy' : bad_guy,\n",
    "    'mainly_nice_mixed' : mainly_nice_mixed,\n",
    "    'mainly_bad_mixed' : mainly_bad_mixed,\n",
    "    'tit_for_tat' : tit_for_tat,\n",
    "    'nash_equilibrium' : nash_equilibrium\n",
    "}\n",
    "strategies = [nice_guy, bad_guy, mainly_nice_mixed, mainly_bad_mixed, tit_for_tat, nash_equilibrium]\n",
    "strategy_labels =['Nice Guy','Bad Guy','Mainly Nice Mixed', 'Mainly Bad Mixed', 'Tit for Tat', 'Nash equilibrium']\n",
    "\n",
    "size = len(strategies)\n",
    "best = 0.0\n",
    "propagated = 0\n",
    "cont = 0\n",
    "\n",
    "for i in range(0, size+1):\n",
    "    payoffs, winners = round_robin(strategies, strategy_labels, n, verbose=False)\n",
    "    #We calculate the total payoff of each strategie, to decide which one will propagate\n",
    "    sum_up = np.empty(len(strategies), dtype=float)\n",
    "    payoffs[\"Sum\"] = payoffs.sum(axis=1)\n",
    "    for j in range(0, len(payoffs[\"Sum\"])):\n",
    "        try:\n",
    "            l = list(payoffs.at[strategy_labels[j] ,\"Sum\"])\n",
    "            payoffs.at[strategy_labels[j], \"Sum\"] = sum(l[0])\n",
    "        except:\n",
    "            if sum(list(payoffs.at[strategy_labels[j] ,\"Sum\"])) < 300:\n",
    "                payoffs.at[strategy_labels[j], \"Sum\"] = sum(list(payoffs.at[strategy_labels[j] ,\"Sum\"]))\n",
    "                print(payoffs)\n",
    "    #We compare the results of each strategy and select the strategy with the most impact on the population\n",
    "    for t in enumerate(list(payoffs[\"Sum\"])):\n",
    "        if t[1] > best:\n",
    "            best = t[1]\n",
    "            row = payoffs.iloc[t[0]]\n",
    "    #This will find the next player with different strategy and propagate\n",
    "    while (propagated == 0):\n",
    "        prop_strat = row.name.replace(\" \", \"_\").lower()\n",
    "        func = strat_dict[prop_strat]\n",
    "        if (func != strategies[cont]):\n",
    "            strategies[cont] = func\n",
    "            strategy_labels[cont] = row.name\n",
    "            propagated = 1\n",
    "        if cont >= len(strategies)-1:\n",
    "            propagated = 1\n",
    "        cont += 1\n",
    "    propagated = 0\n",
    "    cont = 0\n",
    "display(payoffs)\n",
    "display(winners)"
   ]
  },
  {
   "cell_type": "markdown",
   "metadata": {},
   "source": [
    "## Fourth task\n",
    "\n",
    "Implement a rMPIPD where strategies are allowed to mutate. The goal is to simulate the effect of genetic mutations and the effect of natura selection. A parameter (gene) should encode the attidue of an individual to cooperate, such gene can mutate randomly and the corresponding phenotype should compete in the MPIPD such that the best-fitted is determined.\n",
    "\n",
    "Comment: (It will not be included in the final release)\n",
    "I have created a population (get_population) of a specific number of players, each player has a \"gene\" that specify the strategy(its nature), the \"mutate\" function takes randomly two players and make them play, one generation is complete when all players have fighted one time each(so not all vs all), the player that lose will be mutated into the strongest one(natural selection). \n",
    "\n",
    "I am not sure if this is the correct way to implement and it if this is what the professor ask to us. What do you think? \n"
   ]
  },
  {
   "cell_type": "code",
   "execution_count": 174,
   "metadata": {},
   "outputs": [
    {
     "name": "stdout",
     "output_type": "stream",
     "text": [
      "The initial population is distributed as follows: \n"
     ]
    },
    {
     "data": {
      "text/html": [
       "<div>\n",
       "<style scoped>\n",
       "    .dataframe tbody tr th:only-of-type {\n",
       "        vertical-align: middle;\n",
       "    }\n",
       "\n",
       "    .dataframe tbody tr th {\n",
       "        vertical-align: top;\n",
       "    }\n",
       "\n",
       "    .dataframe thead th {\n",
       "        text-align: right;\n",
       "    }\n",
       "</style>\n",
       "<table border=\"1\" class=\"dataframe\">\n",
       "  <thead>\n",
       "    <tr style=\"text-align: right;\">\n",
       "      <th></th>\n",
       "      <th>Genotype</th>\n",
       "      <th>Genes per type</th>\n",
       "    </tr>\n",
       "  </thead>\n",
       "  <tbody>\n",
       "    <tr>\n",
       "      <th>0</th>\n",
       "      <td>mainly_bad_mixed</td>\n",
       "      <td>16756</td>\n",
       "    </tr>\n",
       "    <tr>\n",
       "      <th>1</th>\n",
       "      <td>mainly_nice_mixed</td>\n",
       "      <td>16697</td>\n",
       "    </tr>\n",
       "    <tr>\n",
       "      <th>2</th>\n",
       "      <td>nash_equilibrium</td>\n",
       "      <td>16495</td>\n",
       "    </tr>\n",
       "    <tr>\n",
       "      <th>3</th>\n",
       "      <td>nice_guy</td>\n",
       "      <td>33267</td>\n",
       "    </tr>\n",
       "    <tr>\n",
       "      <th>4</th>\n",
       "      <td>tit_for_tat</td>\n",
       "      <td>16785</td>\n",
       "    </tr>\n",
       "  </tbody>\n",
       "</table>\n",
       "</div>"
      ],
      "text/plain": [
       "            Genotype  Genes per type\n",
       "0   mainly_bad_mixed           16756\n",
       "1  mainly_nice_mixed           16697\n",
       "2   nash_equilibrium           16495\n",
       "3           nice_guy           33267\n",
       "4        tit_for_tat           16785"
      ]
     },
     "metadata": {},
     "output_type": "display_data"
    },
    {
     "name": "stdout",
     "output_type": "stream",
     "text": [
      "\n",
      "\n",
      "Generation:  1\n"
     ]
    },
    {
     "data": {
      "text/html": [
       "<div>\n",
       "<style scoped>\n",
       "    .dataframe tbody tr th:only-of-type {\n",
       "        vertical-align: middle;\n",
       "    }\n",
       "\n",
       "    .dataframe tbody tr th {\n",
       "        vertical-align: top;\n",
       "    }\n",
       "\n",
       "    .dataframe thead th {\n",
       "        text-align: right;\n",
       "    }\n",
       "</style>\n",
       "<table border=\"1\" class=\"dataframe\">\n",
       "  <thead>\n",
       "    <tr style=\"text-align: right;\">\n",
       "      <th></th>\n",
       "      <th>Genotype</th>\n",
       "      <th>Genes per type</th>\n",
       "    </tr>\n",
       "  </thead>\n",
       "  <tbody>\n",
       "    <tr>\n",
       "      <th>0</th>\n",
       "      <td>mainly_bad_mixed</td>\n",
       "      <td>30738</td>\n",
       "    </tr>\n",
       "    <tr>\n",
       "      <th>1</th>\n",
       "      <td>mainly_nice_mixed</td>\n",
       "      <td>24915</td>\n",
       "    </tr>\n",
       "    <tr>\n",
       "      <th>2</th>\n",
       "      <td>nash_equilibrium</td>\n",
       "      <td>19364</td>\n",
       "    </tr>\n",
       "    <tr>\n",
       "      <th>3</th>\n",
       "      <td>nice_guy</td>\n",
       "      <td>16553</td>\n",
       "    </tr>\n",
       "    <tr>\n",
       "      <th>4</th>\n",
       "      <td>tit_for_tat</td>\n",
       "      <td>8430</td>\n",
       "    </tr>\n",
       "  </tbody>\n",
       "</table>\n",
       "</div>"
      ],
      "text/plain": [
       "            Genotype  Genes per type\n",
       "0   mainly_bad_mixed           30738\n",
       "1  mainly_nice_mixed           24915\n",
       "2   nash_equilibrium           19364\n",
       "3           nice_guy           16553\n",
       "4        tit_for_tat            8430"
      ]
     },
     "metadata": {},
     "output_type": "display_data"
    },
    {
     "name": "stdout",
     "output_type": "stream",
     "text": [
      "\n",
      "\n",
      "Generation:  2\n"
     ]
    },
    {
     "data": {
      "text/html": [
       "<div>\n",
       "<style scoped>\n",
       "    .dataframe tbody tr th:only-of-type {\n",
       "        vertical-align: middle;\n",
       "    }\n",
       "\n",
       "    .dataframe tbody tr th {\n",
       "        vertical-align: top;\n",
       "    }\n",
       "\n",
       "    .dataframe thead th {\n",
       "        text-align: right;\n",
       "    }\n",
       "</style>\n",
       "<table border=\"1\" class=\"dataframe\">\n",
       "  <thead>\n",
       "    <tr style=\"text-align: right;\">\n",
       "      <th></th>\n",
       "      <th>Genotype</th>\n",
       "      <th>Genes per type</th>\n",
       "    </tr>\n",
       "  </thead>\n",
       "  <tbody>\n",
       "    <tr>\n",
       "      <th>0</th>\n",
       "      <td>mainly_bad_mixed</td>\n",
       "      <td>52119</td>\n",
       "    </tr>\n",
       "    <tr>\n",
       "      <th>1</th>\n",
       "      <td>mainly_nice_mixed</td>\n",
       "      <td>28228</td>\n",
       "    </tr>\n",
       "    <tr>\n",
       "      <th>2</th>\n",
       "      <td>nash_equilibrium</td>\n",
       "      <td>13326</td>\n",
       "    </tr>\n",
       "    <tr>\n",
       "      <th>3</th>\n",
       "      <td>nice_guy</td>\n",
       "      <td>4181</td>\n",
       "    </tr>\n",
       "    <tr>\n",
       "      <th>4</th>\n",
       "      <td>tit_for_tat</td>\n",
       "      <td>2146</td>\n",
       "    </tr>\n",
       "  </tbody>\n",
       "</table>\n",
       "</div>"
      ],
      "text/plain": [
       "            Genotype  Genes per type\n",
       "0   mainly_bad_mixed           52119\n",
       "1  mainly_nice_mixed           28228\n",
       "2   nash_equilibrium           13326\n",
       "3           nice_guy            4181\n",
       "4        tit_for_tat            2146"
      ]
     },
     "metadata": {},
     "output_type": "display_data"
    },
    {
     "name": "stdout",
     "output_type": "stream",
     "text": [
      "\n",
      "\n",
      "Generation:  3\n"
     ]
    },
    {
     "data": {
      "text/html": [
       "<div>\n",
       "<style scoped>\n",
       "    .dataframe tbody tr th:only-of-type {\n",
       "        vertical-align: middle;\n",
       "    }\n",
       "\n",
       "    .dataframe tbody tr th {\n",
       "        vertical-align: top;\n",
       "    }\n",
       "\n",
       "    .dataframe thead th {\n",
       "        text-align: right;\n",
       "    }\n",
       "</style>\n",
       "<table border=\"1\" class=\"dataframe\">\n",
       "  <thead>\n",
       "    <tr style=\"text-align: right;\">\n",
       "      <th></th>\n",
       "      <th>Genotype</th>\n",
       "      <th>Genes per type</th>\n",
       "    </tr>\n",
       "  </thead>\n",
       "  <tbody>\n",
       "    <tr>\n",
       "      <th>0</th>\n",
       "      <td>mainly_bad_mixed</td>\n",
       "      <td>77154</td>\n",
       "    </tr>\n",
       "    <tr>\n",
       "      <th>1</th>\n",
       "      <td>mainly_nice_mixed</td>\n",
       "      <td>18934</td>\n",
       "    </tr>\n",
       "    <tr>\n",
       "      <th>2</th>\n",
       "      <td>nash_equilibrium</td>\n",
       "      <td>3510</td>\n",
       "    </tr>\n",
       "    <tr>\n",
       "      <th>3</th>\n",
       "      <td>nice_guy</td>\n",
       "      <td>255</td>\n",
       "    </tr>\n",
       "    <tr>\n",
       "      <th>4</th>\n",
       "      <td>tit_for_tat</td>\n",
       "      <td>147</td>\n",
       "    </tr>\n",
       "  </tbody>\n",
       "</table>\n",
       "</div>"
      ],
      "text/plain": [
       "            Genotype  Genes per type\n",
       "0   mainly_bad_mixed           77154\n",
       "1  mainly_nice_mixed           18934\n",
       "2   nash_equilibrium            3510\n",
       "3           nice_guy             255\n",
       "4        tit_for_tat             147"
      ]
     },
     "metadata": {},
     "output_type": "display_data"
    },
    {
     "name": "stdout",
     "output_type": "stream",
     "text": [
      "\n",
      "\n",
      "Generation:  4\n"
     ]
    },
    {
     "data": {
      "text/html": [
       "<div>\n",
       "<style scoped>\n",
       "    .dataframe tbody tr th:only-of-type {\n",
       "        vertical-align: middle;\n",
       "    }\n",
       "\n",
       "    .dataframe tbody tr th {\n",
       "        vertical-align: top;\n",
       "    }\n",
       "\n",
       "    .dataframe thead th {\n",
       "        text-align: right;\n",
       "    }\n",
       "</style>\n",
       "<table border=\"1\" class=\"dataframe\">\n",
       "  <thead>\n",
       "    <tr style=\"text-align: right;\">\n",
       "      <th></th>\n",
       "      <th>Genotype</th>\n",
       "      <th>Genes per type</th>\n",
       "    </tr>\n",
       "  </thead>\n",
       "  <tbody>\n",
       "    <tr>\n",
       "      <th>0</th>\n",
       "      <td>mainly_bad_mixed</td>\n",
       "      <td>94690</td>\n",
       "    </tr>\n",
       "    <tr>\n",
       "      <th>1</th>\n",
       "      <td>mainly_nice_mixed</td>\n",
       "      <td>5152</td>\n",
       "    </tr>\n",
       "    <tr>\n",
       "      <th>2</th>\n",
       "      <td>nash_equilibrium</td>\n",
       "      <td>158</td>\n",
       "    </tr>\n",
       "  </tbody>\n",
       "</table>\n",
       "</div>"
      ],
      "text/plain": [
       "            Genotype  Genes per type\n",
       "0   mainly_bad_mixed           94690\n",
       "1  mainly_nice_mixed            5152\n",
       "2   nash_equilibrium             158"
      ]
     },
     "metadata": {},
     "output_type": "display_data"
    },
    {
     "name": "stdout",
     "output_type": "stream",
     "text": [
      "\n",
      "\n",
      "Generation:  5\n"
     ]
    },
    {
     "data": {
      "text/html": [
       "<div>\n",
       "<style scoped>\n",
       "    .dataframe tbody tr th:only-of-type {\n",
       "        vertical-align: middle;\n",
       "    }\n",
       "\n",
       "    .dataframe tbody tr th {\n",
       "        vertical-align: top;\n",
       "    }\n",
       "\n",
       "    .dataframe thead th {\n",
       "        text-align: right;\n",
       "    }\n",
       "</style>\n",
       "<table border=\"1\" class=\"dataframe\">\n",
       "  <thead>\n",
       "    <tr style=\"text-align: right;\">\n",
       "      <th></th>\n",
       "      <th>Genotype</th>\n",
       "      <th>Genes per type</th>\n",
       "    </tr>\n",
       "  </thead>\n",
       "  <tbody>\n",
       "    <tr>\n",
       "      <th>0</th>\n",
       "      <td>mainly_bad_mixed</td>\n",
       "      <td>99722</td>\n",
       "    </tr>\n",
       "    <tr>\n",
       "      <th>1</th>\n",
       "      <td>mainly_nice_mixed</td>\n",
       "      <td>276</td>\n",
       "    </tr>\n",
       "    <tr>\n",
       "      <th>2</th>\n",
       "      <td>nash_equilibrium</td>\n",
       "      <td>2</td>\n",
       "    </tr>\n",
       "  </tbody>\n",
       "</table>\n",
       "</div>"
      ],
      "text/plain": [
       "            Genotype  Genes per type\n",
       "0   mainly_bad_mixed           99722\n",
       "1  mainly_nice_mixed             276\n",
       "2   nash_equilibrium               2"
      ]
     },
     "metadata": {},
     "output_type": "display_data"
    },
    {
     "name": "stdout",
     "output_type": "stream",
     "text": [
      "\n",
      "\n",
      "Generation:  6\n"
     ]
    },
    {
     "data": {
      "text/html": [
       "<div>\n",
       "<style scoped>\n",
       "    .dataframe tbody tr th:only-of-type {\n",
       "        vertical-align: middle;\n",
       "    }\n",
       "\n",
       "    .dataframe tbody tr th {\n",
       "        vertical-align: top;\n",
       "    }\n",
       "\n",
       "    .dataframe thead th {\n",
       "        text-align: right;\n",
       "    }\n",
       "</style>\n",
       "<table border=\"1\" class=\"dataframe\">\n",
       "  <thead>\n",
       "    <tr style=\"text-align: right;\">\n",
       "      <th></th>\n",
       "      <th>Genotype</th>\n",
       "      <th>Genes per type</th>\n",
       "    </tr>\n",
       "  </thead>\n",
       "  <tbody>\n",
       "    <tr>\n",
       "      <th>0</th>\n",
       "      <td>mainly_bad_mixed</td>\n",
       "      <td>100000</td>\n",
       "    </tr>\n",
       "  </tbody>\n",
       "</table>\n",
       "</div>"
      ],
      "text/plain": [
       "           Genotype  Genes per type\n",
       "0  mainly_bad_mixed          100000"
      ]
     },
     "metadata": {},
     "output_type": "display_data"
    },
    {
     "name": "stdout",
     "output_type": "stream",
     "text": [
      "\n",
      "\n"
     ]
    }
   ],
   "source": [
    "np.random.seed(1996)\n",
    "import seaborn as sns\n",
    "\n",
    "def plot_population(population):\n",
    "    #TO DO\n",
    "    return None\n",
    "\n",
    "def results_mutation(population):\n",
    "    df = pd.DataFrame(population, columns=['Genotype'])\n",
    "    df[df['Genotype'] == nice_guy] = \"nice_guy\" \n",
    "    df[df['Genotype'] == bad_guy] = \"bad_guy\"\n",
    "    df[df['Genotype'] == mainly_nice_mixed] = \"mainly_nice_mixed\" \n",
    "    df[df['Genotype'] == mainly_bad_mixed] = \"mainly_bad_mixed\"\n",
    "    df[df['Genotype'] == tit_for_tat] = \"tit_for_tat\"\n",
    "    df[df['Genotype'] == nash_equilibrium] = \"nash_equilibrium\"\n",
    "    results =df.groupby('Genotype').size().reset_index(name='Genes per type')\n",
    "    display(results)\n",
    "    print(\"\\n\")\n",
    "    \n",
    "def get_population(gene_type, size, only_one_mutation = False):\n",
    "    if only_one_mutation:\n",
    "        population = []\n",
    "        for i in range(size-1):\n",
    "            population.append(gene_type[0])\n",
    "        population.append(gene_type[3])\n",
    "    else:\n",
    "        population_init = np.random.randint(0, len(gene_type), size)\n",
    "        population = []\n",
    "        for i in range(size):\n",
    "            population.append(gene_type[population_init[i]])\n",
    "    \n",
    "    print(\"The initial population is distributed as follows: \")\n",
    "    results_mutation(population)\n",
    "    return population\n",
    "\n",
    "def mutate(population):\n",
    "    random.shuffle(population)\n",
    "    firts_half = np.arange(0,int(len(population)/2 - 1))\n",
    "    second_half = np.arange(int(len(population)/2) , len(population))\n",
    "    for i in range(len(firts_half)):\n",
    "        score_1st, score_2nd = play(population[firts_half[i]], population[second_half[i]], n)\n",
    "        if (score_1st > score_2nd):\n",
    "                population[second_half[i]] = population[firts_half[i]] #mutation\n",
    "        elif (score_1st < score_2nd):\n",
    "                population[firts_half[i]] = population[second_half[i]] #mutation\n",
    "    \n",
    "    results_mutation(population)\n",
    "    return population\n",
    "\n",
    "def evolve(population, number_of_generation):\n",
    "    for i in range(number_of_generation):\n",
    "        print(\"Generation: \",i+1)\n",
    "        population_mutated = mutate(population)\n",
    "    return population_mutated\n",
    "    \n",
    "\n",
    "Number_of_individuals = 100000\n",
    "Number_of_generation = 6\n",
    "    \n",
    "population = get_population(strategies,Number_of_individuals)\n",
    "\n",
    "population_mutated = evolve(population,Number_of_generation)\n",
    "\n"
   ]
  },
  {
   "cell_type": "code",
   "execution_count": null,
   "metadata": {},
   "outputs": [],
   "source": []
  },
  {
   "cell_type": "code",
   "execution_count": null,
   "metadata": {},
   "outputs": [],
   "source": []
  }
 ],
 "metadata": {
  "kernelspec": {
   "display_name": "Python 3",
   "language": "python",
   "name": "python3"
  },
  "language_info": {
   "codemirror_mode": {
    "name": "ipython",
    "version": 3
   },
   "file_extension": ".py",
   "mimetype": "text/x-python",
   "name": "python",
   "nbconvert_exporter": "python",
   "pygments_lexer": "ipython3",
   "version": "3.8.3"
  }
 },
 "nbformat": 4,
 "nbformat_minor": 2
}
